{
 "cells": [
  {
   "cell_type": "markdown",
   "metadata": {},
   "source": [
    "# OBJECTIVE: Build ML algorithm to use text-based clinical literature to classify genetic mutations."
   ]
  },
  {
   "cell_type": "code",
   "execution_count": 44,
   "metadata": {},
   "outputs": [
    {
     "name": "stderr",
     "output_type": "stream",
     "text": [
      "Using TensorFlow backend.\n"
     ]
    }
   ],
   "source": [
    "%matplotlib inline\n",
    "\n",
    "# Data wrapper libraries\n",
    "import pandas as pd\n",
    "pd.options.mode.chained_assignment = None\n",
    "pd.options.display.max_columns = 999\n",
    "\n",
    "import numpy as np\n",
    "\n",
    "# Visualization Libraries\n",
    "import matplotlib.pyplot as plt\n",
    "from matplotlib.patches import Patch\n",
    "from matplotlib.markers import MarkerStyle\n",
    "import seaborn as sns\n",
    "color = sns.color_palette()\n",
    "\n",
    "# Text analysis helper libraries\n",
    "from gensim.summarization import summarize\n",
    "from gensim.summarization import keywords\n",
    "\n",
    "# Text analysis helper libraries for word frequency etc..\n",
    "from nltk.tokenize import word_tokenize\n",
    "from nltk.stem import WordNetLemmatizer\n",
    "from nltk.corpus import stopwords\n",
    "from string import punctuation\n",
    "\n",
    "from collections import Counter\n",
    "\n",
    "# Word2Vec related libraries\n",
    "from gensim.models import KeyedVectors\n",
    "\n",
    "# Dimensionaly reduction libraries\n",
    "from sklearn.decomposition import PCA\n",
    "\n",
    "# Clustering library\n",
    "from sklearn.cluster import KMeans\n",
    "\n",
    "# Set figure size a bit bigger than default so everything is easily red\n",
    "plt.rcParams[\"figure.figsize\"] = (11, 7)\n",
    "\n",
    "\n",
    "from sklearn.model_selection import cross_val_predict\n",
    "from sklearn.model_selection import StratifiedKFold\n",
    "from sklearn.model_selection import train_test_split\n",
    "from sklearn.linear_model import LogisticRegression\n",
    "from sklearn.metrics import log_loss, accuracy_score\n",
    "from sklearn.feature_extraction.text import CountVectorizer\n",
    "from sklearn.feature_extraction.text import TfidfVectorizer\n",
    "from sklearn.svm import SVC\n",
    "from sklearn.decomposition import TruncatedSVD\n",
    "from sklearn.ensemble import RandomForestClassifier\n",
    "from sklearn.preprocessing import LabelEncoder\n",
    "\n",
    "import gensim\n",
    "\n",
    "import scikitplot.plotters as skplt\n",
    "\n",
    "import nltk\n",
    "\n",
    "from xgboost import XGBClassifier\n",
    "\n",
    "import os\n",
    "\n",
    "from keras.preprocessing.text import Tokenizer\n",
    "from keras.preprocessing.sequence import pad_sequences\n",
    "from keras.models import Sequential\n",
    "from keras.layers import Dense, Embedding, LSTM\n",
    "from keras.utils.np_utils import to_categorical\n",
    "from keras.callbacks import ModelCheckpoint\n",
    "from keras.models import load_model\n",
    "from keras.optimizers import Adam"
   ]
  },
  {
   "cell_type": "code",
   "execution_count": 3,
   "metadata": {},
   "outputs": [],
   "source": [
    "tr_txt = pd.read_csv(\"training_text/training_text\", sep=\"\\|\\|\", engine='python', header=None, skiprows=1, names=[\"ID\",\"Text\"])\n",
    "test_txt = pd.read_csv(\"test_text/test_text\", sep=\"\\|\\|\", engine='python', header=None, skiprows=1, names=[\"ID\",\"Text\"])\n",
    "tr_var = pd.read_csv(\"training_variants/training_variants\")\n",
    "test_var = pd.read_csv(\"test_variants/test_variants\")"
   ]
  },
  {
   "cell_type": "markdown",
   "metadata": {},
   "source": [
    "## EDA"
   ]
  },
  {
   "cell_type": "code",
   "execution_count": 4,
   "metadata": {},
   "outputs": [
    {
     "data": {
      "text/html": [
       "<div>\n",
       "<style scoped>\n",
       "    .dataframe tbody tr th:only-of-type {\n",
       "        vertical-align: middle;\n",
       "    }\n",
       "\n",
       "    .dataframe tbody tr th {\n",
       "        vertical-align: top;\n",
       "    }\n",
       "\n",
       "    .dataframe thead th {\n",
       "        text-align: right;\n",
       "    }\n",
       "</style>\n",
       "<table border=\"1\" class=\"dataframe\">\n",
       "  <thead>\n",
       "    <tr style=\"text-align: right;\">\n",
       "      <th></th>\n",
       "      <th>ID</th>\n",
       "      <th>Text</th>\n",
       "    </tr>\n",
       "  </thead>\n",
       "  <tbody>\n",
       "    <tr>\n",
       "      <td>0</td>\n",
       "      <td>0</td>\n",
       "      <td>Cyclin-dependent kinases (CDKs) regulate a var...</td>\n",
       "    </tr>\n",
       "    <tr>\n",
       "      <td>1</td>\n",
       "      <td>1</td>\n",
       "      <td>Abstract Background  Non-small cell lung canc...</td>\n",
       "    </tr>\n",
       "    <tr>\n",
       "      <td>2</td>\n",
       "      <td>2</td>\n",
       "      <td>Abstract Background  Non-small cell lung canc...</td>\n",
       "    </tr>\n",
       "    <tr>\n",
       "      <td>3</td>\n",
       "      <td>3</td>\n",
       "      <td>Recent evidence has demonstrated that acquired...</td>\n",
       "    </tr>\n",
       "    <tr>\n",
       "      <td>4</td>\n",
       "      <td>4</td>\n",
       "      <td>Oncogenic mutations in the monomeric Casitas B...</td>\n",
       "    </tr>\n",
       "  </tbody>\n",
       "</table>\n",
       "</div>"
      ],
      "text/plain": [
       "   ID                                               Text\n",
       "0   0  Cyclin-dependent kinases (CDKs) regulate a var...\n",
       "1   1   Abstract Background  Non-small cell lung canc...\n",
       "2   2   Abstract Background  Non-small cell lung canc...\n",
       "3   3  Recent evidence has demonstrated that acquired...\n",
       "4   4  Oncogenic mutations in the monomeric Casitas B..."
      ]
     },
     "execution_count": 4,
     "metadata": {},
     "output_type": "execute_result"
    }
   ],
   "source": [
    "tr_txt.head()"
   ]
  },
  {
   "cell_type": "code",
   "execution_count": 5,
   "metadata": {},
   "outputs": [
    {
     "data": {
      "text/plain": [
       "\"Cyclin-dependent kinases (CDKs) regulate a variety of fundamental cellular processes. CDK10 stands out as one of the last orphan CDKs for which no activating cyclin has been identified and no kinase activity revealed. Previous work has shown that CDK10 silencing increases ETS2 (v-ets erythroblastosis virus E26 oncogene homolog 2)-driven activation of the MAPK pathway, which confers tamoxifen resistance to breast cancer cells. The precise mechanisms by which CDK10 modulates ETS2 activity, and more generally the functions of CDK10, remain elusive. Here we demonstrate that CDK10 is a cyclin-dependent kinase by identifying cyclin M as an activating cyclin. Cyclin M, an orphan cyclin, is the product of FAM58A, whose mutations cause STAR syndrome, a human developmental anomaly whose features include toe syndactyly, telecanthus, and anogenital and renal malformations. We show that STAR syndrome-associated cyclin M mutants are unable to interact with CDK10. Cyclin M silencing phenocopies CDK10 silencing in increasing c-Raf and in conferring tamoxifen resistance to breast cancer cells. CDK10/cyclin M phosphorylates ETS2 in vitro, and in cells it positively controls ETS2 degradation by the proteasome. ETS2 protein levels are increased in cells derived from a STAR patient, and this increase is attributable to decreased cyclin M levels. Altogether, our results reveal an additional regulatory mechanism for ETS2, which plays key roles in cancer and development. They also shed light on the molecular mechanisms underlying STAR syndrome.Cyclin-dependent kinases (CDKs) play a pivotal role in the control of a number of fundamental cellular processes (1). The human genome contains 21 genes encoding proteins that can be considered as members of the CDK family owing to their sequence similarity with bona fide CDKs, those known to be activated by cyclins (2). Although discovered almost 20 y ago (3, 4), CDK10 remains one of the two CDKs without an identified cyclin partner. This knowledge gap has largely impeded the exploration of its biological functions. CDK10 can act as a positive cell cycle regulator in some cells (5, 6) or as a tumor suppressor in others (7, 8). CDK10 interacts with the ETS2 (v-ets erythroblastosis virus E26 oncogene homolog 2) transcription factor and inhibits its transcriptional activity through an unknown mechanism (9). CDK10 knockdown derepresses ETS2, which increases the expression of the c-Raf protein kinase, activates the MAPK pathway, and induces resistance of MCF7 cells to tamoxifen (6).Here, we deorphanize CDK10 by identifying cyclin M, the product of FAM58A, as a binding partner. Mutations in this gene that predict absence or truncation of cyclin M are associated with STAR syndrome, whose features include toe syndactyly, telecanthus, and anogenital and renal malformations in heterozygous females (10). However, both the functions of cyclin M and the pathogenesis of STAR syndrome remain unknown. We show that a recombinant CDK10/cyclin M heterodimer is an active protein kinase that phosphorylates ETS2 in vitro. Cyclin M silencing phenocopies CDK10 silencing in increasing c-Raf and phospho-ERK expression levels and in inducing tamoxifen resistance in estrogen receptor (ER)+ breast cancer cells. We show that CDK10/cyclin M positively controls ETS2 degradation by the proteasome, through the phosphorylation of two neighboring serines. Finally, we detect an increased ETS2 expression level in cells derived from a STAR patient, and we demonstrate that it is attributable to the decreased cyclin M expression level observed in these cells.Previous SectionNext SectionResultsA yeast two-hybrid (Y2H) screen unveiled an interaction signal between CDK10 and a mouse protein whose C-terminal half presents a strong sequence homology with the human FAM58A gene product [whose proposed name is cyclin M (11)]. We thus performed Y2H mating assays to determine whether human CDK10 interacts with human cyclin M (Fig. 1 Aâ€“C). The longest CDK10 isoform (P1) expressed as a bait protein produced a strong interaction phenotype with full-length cyclin M (expressed as a prey protein) but no detectable phenotype with cyclin D1, p21 (CIP1), and Cdi1 (KAP), which are known binding partners of other CDKs (Fig. 1B). CDK1 and CDK3 also produced Y2H signals with cyclin M, albeit notably weaker than that observed with CDK10 (Fig. 1B). An interaction phenotype was also observed between full-length cyclin M and CDK10 proteins expressed as bait and prey, respectively (Fig. S1A). We then tested different isoforms of CDK10 and cyclin M originating from alternative gene splicing, and two truncated cyclin M proteins corresponding to the hypothetical products of two mutated FAM58A genes found in STAR syndrome patients (10). None of these shorter isoforms produced interaction phenotypes (Fig. 1 A and C and Fig. S1A).Fig. 1.In a new window Download PPTFig. 1.CDK10 and cyclin M form an interaction complex. (A) Schematic representation of the different protein isoforms analyzed by Y2H assays. Amino acid numbers are indicated. Black boxes indicate internal deletions. The red box indicates a differing amino acid sequence compared with CDK10 P1. (B) Y2H assay between a set of CDK proteins expressed as baits (in fusion to the LexA DNA binding domain) and CDK interacting proteins expressed as preys (in fusion to the B42 transcriptional activator). pEG202 and pJG4-5 are the empty bait and prey plasmids expressing LexA and B42, respectively. lacZ was used as a reporter gene, and blue yeast are indicative of a Y2H interaction phenotype. (C) Y2H assay between the different CDK10 and cyclin M isoforms. The amino-terminal region of ETS2, known to interact with CDK10 (9), was also assayed. (D) Western blot analysis of Myc-CDK10 (wt or kd) and CycM-V5-6His expression levels in transfected HEK293 cells. (E) Western blot analysis of Myc-CDK10 (wt or kd) immunoprecipitates obtained using the anti-Myc antibody. â€œInputsâ€� correspond to 10 Î¼g total lysates obtained from HEK293 cells coexpressing Myc-CDK10 (wt or kd) and CycM-V5-6His. (F) Western blot analysis of immunoprecipitates obtained using the anti-CDK10 antibody or a control goat antibody, from human breast cancer MCF7 cells. â€œInputâ€� corresponds to 30 Î¼g MCF7 total cell lysates. The lower band of the doublet observed on the upper panel comigrates with the exogenously expressed untagged CDK10 and thus corresponds to endogenous CDK10. The upper band of the doublet corresponds to a nonspecific signal, as demonstrated by it insensitivity to either overexpression of CDK10 (as seen on the left lane) or silencing of CDK10 (Fig. S2B). Another experiment with a longer gel migration is shown in Fig. S1D.Next we examined the ability of CDK10 and cyclin M to interact when expressed in human cells (Fig. 1 D and E). We tested wild-type CDK10 (wt) and a kinase dead (kd) mutant bearing a D181A amino acid substitution that abolishes ATP binding (12). We expressed cyclin M-V5-6His and/or Myc-CDK10 (wt or kd) in a human embryonic kidney cell line (HEK293). The expression level of cyclin M-V5-6His was significantly increased upon coexpression with Myc-CDK10 (wt or kd) and, to a lesser extent, that of Myc-CDK10 (wt or kd) was increased upon coexpression with cyclin M-V5-6His (Fig. 1D). We then immunoprecipitated Myc-CDK10 proteins and detected the presence of cyclin M in the CDK10 (wt) and (kd) immunoprecipitates only when these proteins were coexpressed pair-wise (Fig. 1E). We confirmed these observations by detecting the presence of Myc-CDK10 in cyclin M-V5-6His immunoprecipitates (Fig. S1B). These experiments confirmed the lack of robust interaction between the CDK10.P2 isoform and cyclin M (Fig. S1C). To detect the interaction between endogenous proteins, we performed immunoprecipitations on nontransfected MCF7 cells derived from a human breast cancer. CDK10 and cyclin M antibodies detected their cognate endogenous proteins by Western blotting. We readily detected cyclin M in immunoprecipitates obtained with the CDK10 antibody but not with a control antibody (Fig. 1F). These results confirm the physical interaction between CDK10 and cyclin M in human cells.To unveil a hypothesized CDK10/cyclin M protein kinase activity, we produced GST-CDK10 and StrepII-cyclin M fusion proteins in insect cells, either individually or in combination. We observed that GST-CDK10 and StrepII-cyclin M copurified, thus confirming their interaction in yet another cellular model (Fig. 2A). We then performed in vitro kinase assays with purified proteins, using histone H1 as a generic substrate. Histone H1 phosphorylation was detected only from lysates of cells coexpressing GST-CDK10 and StrepII-cyclin M. No phosphorylation was detected when GST-CDK10 or StrepII-cyclin M were expressed alone, or when StrepII-cyclin M was coexpressed with GST-CDK10(kd) (Fig. 2A). Next we investigated whether ETS2, which is known to interact with CDK10 (9) (Fig. 1C), is a phosphorylation substrate of CDK10/cyclin M. We detected strong phosphorylation of ETS2 by the GST-CDK10/StrepII-cyclin M purified heterodimer, whereas no phosphorylation was detected using GST-CDK10 alone or GST-CDK10(kd)/StrepII-cyclin M heterodimer (Fig. 2B).Fig. 2.In a new window Download PPTFig. 2.CDK10 is a cyclin M-dependent protein kinase. (A) In vitro protein kinase assay on histone H1. Lysates from insect cells expressing different proteins were purified on a glutathione Sepharose matrix to capture GST-CDK10(wt or kd) fusion proteins alone, or in complex with STR-CycM fusion protein. Purified protein expression levels were analyzed by Western blots (Top and Upper Middle). The kinase activity was determined by autoradiography of histone H1, whose added amounts were visualized by Coomassie staining (Lower Middle and Bottom). (B) Same as in A, using purified recombinant 6His-ETS2 as a substrate.CDK10 silencing has been shown to increase ETS2-driven c-RAF transcription and to activate the MAPK pathway (6). We investigated whether cyclin M is also involved in this regulatory pathway. To aim at a highly specific silencing, we used siRNA pools (mix of four different siRNAs) at low final concentration (10 nM). Both CDK10 and cyclin M siRNA pools silenced the expression of their cognate targets (Fig. 3 A and C and Fig. S2) and, interestingly, the cyclin M siRNA pool also caused a marked decrease in CDK10 protein level (Fig. 3A and Fig. S2B). These results, and those shown in Fig. 1D, suggest that cyclin M binding stabilizes CDK10. Cyclin M silencing induced an increase in c-Raf protein and mRNA levels (Fig. 3 B and C) and in phosphorylated ERK1 and ERK2 protein levels (Fig. S3B), similarly to CDK10 silencing. As expected from these effects (6), CDK10 and cyclin M silencing both decreased the sensitivity of ER+ MCF7 cells to tamoxifen, to a similar extent. The combined silencing of both genes did not result in a higher resistance to the drug (Fig. S3C). Altogether, these observations demonstrate a functional interaction between cyclin M and CDK10, which negatively controls ETS2.Fig. 3.In a new window Download PPTFig. 3.Cyclin M silencing up-regulates c-Raf expression. (A) Western blot analysis of endogenous CDK10 and cyclin M expression levels in MCF7 cells, in response to siRNA-mediated gene silencing. (B) Western blot analysis of endogenous c-Raf expression levels in MCF7 cells, in response to CDK10 or cyclin M silencing. A quantification is shown in Fig. S3A. (C) Quantitative RT-PCR analysis of CDK10, cyclin M, and c-Raf mRNA levels, in response to CDK10 (Upper) or cyclin M (Lower) silencing. **P â‰¤ 0.01; ***P â‰¤ 0.001.We then wished to explore the mechanism by which CDK10/cyclin M controls ETS2. ETS2 is a short-lived protein degraded by the proteasome (13). A straightforward hypothesis is that CDK10/cyclin M positively controls ETS2 degradation. We thus examined the impact of CDK10 or cyclin M silencing on ETS2 expression levels. The silencing of CDK10 and that of cyclin M caused an increase in the expression levels of an exogenously expressed Flag-ETS2 protein (Fig. S4A), as well as of the endogenous ETS2 protein (Fig. 4A). This increase is not attributable to increased ETS2 mRNA levels, which marginally fluctuated in response to CDK10 or cyclin M silencing (Fig. S4B). We then examined the expression levels of the Flag-tagged ETS2 protein when expressed alone or in combination with Myc-CDK10 or -CDK10(kd), with or without cyclin M-V5-6His. Flag-ETS2 was readily detected when expressed alone or, to a lesser extent, when coexpressed with CDK10(kd). However, its expression level was dramatically decreased when coexpressed with CDK10 alone, or with CDK10 and cyclin M (Fig. 4B). These observations suggest that endogenous cyclin M levels are in excess compared with those of CDK10 in MCF7 cells, and they show that the major decrease in ETS2 levels observed upon CDK10 coexpression involves CDK10 kinase activity. Treatment of cells coexpressing Flag-ETS2, CDK10, and cyclin M with the proteasome inhibitor MG132 largely rescued Flag-ETS2 expression levels (Fig. 4B).Fig. 4.In a new window Download PPTFig. 4.CDK10/cyclin M controls ETS2 stability in human cancer derived cells. (A) Western blot analysis of endogenous ETS2 expression levels in MCF7 cells, in response to siRNA-mediated CDK10 and/or cyclin M silencing. A quantification is shown in Fig. S4B. (B) Western blot analysis of exogenously expressed Flag-ETS2 protein levels in MCF7 cells cotransfected with empty vectors or coexpressing Myc-CDK10 (wt or kd), or Myc-CDK10/CycM-V5-6His. The latter cells were treated for 16 h with the MG132 proteasome inhibitor. Proper expression of CDK10 and cyclin M tagged proteins was verified by Western blot analysis. (C and D) Western blot analysis of expression levels of exogenously expressed Flag-ETS2 wild-type or mutant proteins in MCF7 cells, in the absence of (C) or in response to (D) Myc-CDK10/CycM-V5-6His expression. Quantifications are shown in Fig. S4 C and D.A mass spectrometry analysis of recombinant ETS2 phosphorylated by CDK10/cyclin M in vitro revealed the existence of multiple phosphorylated residues, among which are two neighboring phospho-serines (at positions 220 and 225) that may form a phosphodegron (14) (Figs. S5â€“S8). To confirm this finding, we compared the phosphorylation level of recombinant ETS2wt with that of ETS2SASA protein, a mutant bearing alanine substitutions of these two serines. As expected from the existence of multiple phosphorylation sites, we detected a small but reproducible, significant decrease of phosphorylation level of ETS2SASA compared with ETS2wt (Fig. S9), thus confirming that Ser220/Ser225 are phosphorylated by CDK10/cyclin M. To establish a direct link between ETS2 phosphorylation by CDK10/cyclin M and degradation, we examined the expression levels of Flag-ETS2SASA. In the absence of CDK10/cyclin M coexpression, it did not differ significantly from that of Flag-ETS2. This is contrary to that of Flag-ETS2DBM, bearing a deletion of the N-terminal destruction (D-) box that was previously shown to be involved in APC-Cdh1â€“mediated degradation of ETS2 (13) (Fig. 4C). However, contrary to Flag-ETS2 wild type, the expression level of Flag-ETS2SASA remained insensitive to CDK10/cyclin M coexpression (Fig. 4D). Altogether, these results suggest that CDK10/cyclin M directly controls ETS2 degradation through the phosphorylation of these two serines.Finally, we studied a lymphoblastoid cell line derived from a patient with STAR syndrome, bearing FAM58A mutation c.555+1G>A, predicted to result in aberrant splicing (10). In accordance with incomplete skewing of X chromosome inactivation previously found in this patient, we detected a decreased expression level of cyclin M protein in the STAR cell line, compared with a control lymphoblastoid cell line. In line with our preceding observations, we detected an increased expression level of ETS2 protein in the STAR cell line compared with the control (Fig. 5A and Fig. S10A). We then examined by quantitative RT-PCR the mRNA expression levels of the corresponding genes. The STAR cell line showed a decreased expression level of cyclin M mRNA but an expression level of ETS2 mRNA similar to that of the control cell line (Fig. 5B). To demonstrate that the increase in ETS2 protein expression is indeed a result of the decreased cyclin M expression observed in the STAR patient-derived cell line, we expressed cyclin M-V5-6His in this cell line. This expression caused a decrease in ETS2 protein levels (Fig. 5C).Fig. 5.In a new window Download PPTFig. 5.Decreased cyclin M expression in STAR patient-derived cells results in increased ETS2 protein level. (A) Western blot analysis of cyclin M and ETS2 protein levels in a STAR patient-derived lymphoblastoid cell line and in a control lymphoblastoid cell line, derived from a healthy individual. A quantification is shown in Fig. S10A. (B) Quantitative RT-PCR analysis of cyclin M and ETS2 mRNA levels in the same cells. ***P â‰¤ 0.001. (C) Western blot analysis of ETS2 protein levels in the STAR patient-derived lymphoblastoid cell line transfected with an empty vector or a vector directing the expression of cyclin M-V5-6His. Another Western blot revealing endogenously and exogenously expressed cyclin M levels is shown in Fig. S10B. A quantification of ETS2 protein levels is shown in Fig. S10C.Previous SectionNext SectionDiscussionIn this work, we unveil the interaction between CDK10, the last orphan CDK discovered in the pregenomic era (2), and cyclin M, the only cyclin associated with a human genetic disease so far, and whose functions remain unknown (10). The closest paralogs of CDK10 within the CDK family are the CDK11 proteins, which interact with L-type cyclins (15). Interestingly, the closest paralog of these cyclins within the cyclin family is cyclin M (Fig. S11). The fact that none of the shorter CDK10 isoforms interact robustly with cyclin M suggests that alternative splicing of the CDK10 gene (16, 17) plays an important role in regulating CDK10 functions.The functional relevance of the interaction between CDK10 and cyclin M is supported by different observations. Both proteins seem to enhance each otherâ€™s stability, as judged from their increased expression levels when their partner is exogenously coexpressed (Fig. 1D) and from the much reduced endogenous CDK10 expression level observed in response to cyclin M silencing (Fig. 3A and Fig. S2B). CDK10 is subject to ubiquitin-mediated degradation (18). Our observations suggest that cyclin M protects CDK10 from such degradation and that it is the only cyclin partner of CDK10, at least in MCF7 cells. They also suggest that cyclin M stability is enhanced upon binding to CDK10, independently from its kinase activity, as seen for cyclin C and CDK8 (19). We uncover a cyclin M-dependent CDK10 protein kinase activity in vitro, thus demonstrating that this protein, which was named a CDK on the sole basis of its amino acid sequence, is indeed a genuine cyclin-dependent kinase. Our Y2H assays reveal that truncated cyclin M proteins corresponding to the hypothetical products of two STAR syndrome-associated FAM58A mutations do not produce an interaction phenotype with CDK10. Hence, regardless of whether these mutated mRNAs undergo nonsense-mediated decay (as suggested from the decreased cyclin M mRNA levels in STAR cells, shown in Fig. 5B) or give rise to truncated cyclin M proteins, females affected by the STAR syndrome must exhibit compromised CDK10/cyclin M kinase activity at least in some tissues and during specific developmental stages.We show that ETS2, a known interactor of CDK10, is a phosphorylation substrate of CDK10/cyclin M in vitro and that CDK10/cyclin M kinase activity positively controls ETS2 degradation by the proteasome. This control seems to be exerted through a very fine mechanism, as judged from the sensitivity of ETS2 levels to partially decreased CDK10 and cyclin M levels, achieved in MCF7 cells and observed in STAR cells, respectively. These findings offer a straightforward explanation for the already reported up-regulation of ETS2-driven transcription of c-RAF in response to CDK10 silencing (6). We bring evidence that CDK10/cyclin M directly controls ETS2 degradation through the phosphorylation of two neighboring serines, which may form a noncanonical Î²-TRCP phosphodegron (DSMCPAS) (14). Because none of these two serines precede a proline, they do not conform to usual CDK phosphorylation sites. However, multiple so-called transcriptional CDKs (CDK7, -8, -9, and -11) (to which CDK10 may belong; Fig. S11) have been shown to phosphorylate a variety of motifs in a nonâ€“proline-directed fashion, especially in the context of molecular docking with the substrate (20). Here, it can be hypothesized that the high-affinity interaction between CDK10 and the Pointed domain of ETS2 (6, 9) (Fig. 1C) would allow docking-mediated phosphorylation of atypical sites. The control of ETS2 degradation involves a number of players, including APC-Cdh1 (13) and the cullin-RING ligase CRL4 (21). The formal identification of the ubiquitin ligase involved in the CDK10/cyclin M pathway and the elucidation of its concerted action with the other ubiquitin ligases to regulate ETS2 degradation will require further studies.Our results present a number of significant biological and medical implications. First, they shed light on the regulation of ETS2, which plays an important role in development (22) and is frequently deregulated in many cancers (23). Second, our results contribute to the understanding of the molecular mechanisms causing tamoxifen resistance associated with reduced CDK10 expression levels, and they suggest that, like CDK10 (6), cyclin M could also be a predictive clinical marker of hormone therapy response of ERÎ±-positive breast cancer patients. Third, our findings offer an interesting hypothesis on the molecular mechanisms underlying STAR syndrome. Ets2 transgenic mice showing a less than twofold overexpression of Ets2 present severe cranial abnormalities (24), and those observed in STAR patients could thus be caused at least in part by increased ETS2 protein levels. Another expected consequence of enhanced ETS2 expression levels would be a decreased risk to develop certain types of cancers and an increased risk to develop others. Studies on various mouse models (including models of Down syndrome, in which three copies of ETS2 exist) have revealed that ETS2 dosage can repress or promote tumor growth and, hence, that ETS2 exerts noncell autonomous functions in cancer (25). Intringuingly, one of the very few STAR patients identified so far has been diagnosed with a nephroblastoma (26). Finally, our findings will facilitate the general exploration of the biological functions of CDK10 and, in particular, its role in the control of cell division. Previous studies have suggested either a positive role in cell cycle control (5, 6) or a tumor-suppressive activity in some cancers (7, 8). The severe growth retardation exhibited by STAR patients strongly suggests that CDK10/cyclin M plays an important role in the control of cell proliferation.Previous SectionNext SectionMaterials and MethodsCloning of CDK10 and cyclin M cDNAs, plasmid constructions, tamoxifen response analysis, quantitative RT-PCR, mass spectrometry experiments, and antibody production are detailed in SI Materials and Methods.Yeast Two-Hybrid Interaction Assays. We performed yeast interaction mating assays as previously described (27).Mammalian Cell Cultures and Transfections. We grew human HEK293 and MCF7 cells in DMEM supplemented with 10% (vol/vol) FBS (Invitrogen), and we grew lymphoblastoid cells in RPMI 1640 GlutaMAX supplemented with 15% (vol/vol) FBS. We transfected HEK293 and MCF7 cells using Lipofectamine 2000 (Invitrogen) for plasmids, Lipofectamine RNAiMAX (Invitrogen) for siRNAs, and Jetprime (Polyplus) for plasmids/siRNAs combinations according to the manufacturersâ€™ instructions. We transfected lymphoblastoid cells by electroporation (Neon, Invitrogen). For ETS2 stability studies we treated MCF7 cells 32 h after transfection with 10 Î¼M MG132 (Fisher Scientific) for 16 h.Coimmunoprecipitation and Western Blot Experiments. We collected cells by scraping in PBS (or centrifugation for lymphoblastoid cells) and lysed them by sonication in a lysis buffer containing 60 mM Î²-glycerophosphate, 15 mM p-nitrophenylphosphate, 25 mM 3-(N-morpholino)propanesulfonic acid (Mops) (pH 7.2), 15 mM EGTA, 15 mM MgCl2, 1 mM Na vanadate, 1 mM NaF, 1mM phenylphosphate, 0.1% Nonidet P-40, and a protease inhibitor mixture (Roche). We spun the lysates 15 min at 20,000 Ã— g at 4 Â°C, collected the supernatants, and determined the protein content using a Bradford assay. We performed the immunoprecipitation experiments on 500 Î¼g of total proteins, in lysis buffer. We precleared the lysates with 20 Î¼L of protein A or G-agarose beads, incubated 1 h 4 Â°C on a rotating wheel. We added 5 Î¼g of antibody to the supernatants, incubated 1 h 4 Â°C on a rotating wheel, added 20 Î¼L of protein A or G-agarose beads, and incubated 1 h 4 Â°C on a rotating wheel. We collected the beads by centrifugation 30 s at 18,000 Ã— g at 4 Â°C and washed three times in a bead buffer containing 50 mM Tris (pH 7.4), 5 mM NaF, 250 mM NaCl, 5 mM EDTA, 5 mM EGTA, 0.1% Nonidet P-40, and a protease inhibitor coktail (Roche). We directly added sample buffer to the washed pellets, heat-denatured the proteins, and ran the samples on 10% Bis-Tris SDS/PAGE. We transferred the proteins onto Hybond nitrocellulose membranes and processed the blots according to standard procedures. For Western blot experiments, we used the following primary antibodies: anti-Myc (Abcam ab9106, 1:2,000), anti-V5 (Invitrogen R960, 1:5,000), anti-tubulin (Santa Cruz Biotechnology B-7, 1:500), anti-CDK10 (Covalab pab0847p, 1:500 or Santa Cruz Biotechnology C-19, 1:500), anti-CycM (home-made, dilution 1:500 or Covalab pab0882-P, dilution 1:500), anti-Raf1 (Santa Cruz Biotechnology C-20, 1:1,000), anti-ETS2 (Santa Cruz Biotechnology C-20, 1:1,000), anti-Flag (Sigma F7425, 1:1,000), and anti-actin (Sigma A5060, 1:5,000). We used HRP-coupled anti-goat (Santa Cruz Biotechnology SC-2033, dilution 1:2,000), anti-mouse (Bio-Rad 170â€“6516, dilution 1:3,000) or anti-rabbit (Bio-Rad 172â€“1019, 1:5,000) as secondary antibodies. We revealed the blots by enhanced chemiluminescence (SuperSignal West Femto, Thermo Scientific).Production and Purification of Recombinant Proteins.GST-CDK10(kd)/StrepII-CycM. We generated recombinant bacmids in DH10Bac Escherichia coli and baculoviruses in Sf9 cells using the Bac-to-Bac system, as described by the provider (Invitrogen). We infected Sf9 cells with GST-CDK10- (or GST-CDK10kd)-producing viruses, or coinfected the cells with StrepII-CycMâ€“producing viruses, and we collected the cells 72 h after infection. To purify GST-fusion proteins, we spun 250 mL cells and resuspended the pellet in 40 mL lysis buffer (PBS, 250 mM NaCl, 0.5% Nonidet P-40, 50 mM NaF, 10 mM Î²-glycerophosphate, and 0.3 mM Na-vanadate) containing a protease inhibitor mixture (Roche). We lysed the cells by sonication, spun the lysate 30 min at 15,000 Ã— g, collected the soluble fraction, and added it to a 1-mL glutathione-Sepharose matrix. We incubated 1 h at 4 Â°C, washed four times with lysis buffer, one time with kinase buffer A (see below), and finally resuspended the beads in 100 Î¼L kinase buffer A containing 10% (vol/vol) glycerol for storage.6His-ETS2. We transformed Origami2 DE3 (Novagen) with the 6His-ETS2 expression vector. We induced expression with 0.2 mM isopropyl-Î²-d-1-thiogalactopyranoside for 3 h at 22 Â°C. To purify 6His-ETS2, we spun 50 mL cells and resuspended the pellet in 2 mL lysis buffer (PBS, 300 mM NaCl, 10 mM Imidazole, 1 mM DTT, and 0.1% Nonidet P-40) containing a protease inhibitor mixture without EDTA (Roche). We lysed the cells at 1.6 bar using a cell disruptor and spun the lysate 10 min at 20,000 Ã— g. We collected the soluble fraction and added it to 200 Î¼L Cobalt beads (Thermo Scientific). After 1 h incubation at 4 Â°C on a rotating wheel, we washed four times with lysis buffer. To elute, we incubated beads 30 min with elution buffer (PBS, 250 mM imidazole, pH 7.6) containing the protease inhibitor mixture, spun 30 s at 10,000 Ã— g, and collected the eluted protein.Protein Kinase Assays. We mixed glutathione-Sepharose beads (harboring GST-CDK10 wt or kd, either monomeric or complexed with StrepII-CycM), 22.7 Î¼M BSA, 15 mM DTT, 100 Î¼M ATP, 5 Î¼Ci ATP[Î³-32P], 7.75 Î¼M histone H1, or 1 Î¼M 6His-ETS2 and added kinase buffer A (25 mM TrisÂ·HCl, 10 mM MgCl2, 1 mM EGTA, 1 mM DTT, and 3.7 Î¼M heparin, pH 7.5) up to a total volume of 30 Î¼L. We incubated the reactions 30 min at 30 Â°C, added Laemli sample buffer, heat-denatured the samples, and ran 10% Bis-Tris SDS/PAGE. We cut gel slices to detect GST-CDK10 and StrepII-CycM by Western blotting. We stained the gel slices containing the substrate with Coomassie (R-250, Bio-Rad), dried them, and detected the incorporated radioactivity by autoradiography. We identified four unrelated girls with anogenital and renal malformations, dysmorphic facial features, normal intellect and syndactyly of toes. A similar combination of features had been reported previously in a motherâ€“daughter pair1 (Table 1 and Supplementary Note online). These authors noted clinical overlap with Townes-Brocks syndrome but suggested that the phenotype represented a separate autosomal dominant entity (MIM601446). Here we define the cardinal features of this syndrome as a characteristic facial appearance with apparent telecanthus and broad tripartite nasal tip, variable syndactyly of toes 2â€“5, hypoplastic labia, anal atresia and urogenital malformations (Fig. 1aâ€“h). We also observed a variety of other features (Table 1).  Figure 1: Clinical and molecular characterization of STAR syndrome.  Figure 1 : Clinical and molecular characterization of STAR syndrome. (aâ€“f) Facial appearances of cases 1â€“3 (apparent telecanthus, dysplastic ears and thin upper lips; a,c,e), and toe syndactyly 2â€“5, 3â€“5 or 4â€“5 (b,d,f) in these cases illustrate recognizable features of STAR syndrome (specific parental consent has been obtained for publication of these photographs). Anal atresia and hypoplastic labia are not shown. (g,h) X-ray films of the feet of case 2 showing only four rays on the left and delta-shaped 4th and 5th metatarsals on the right (h; compare to clinical picture in d). (i) Array-CGH data. Log2 ratio represents copy number loss of six probes spanning between 37.9 and 50.7 kb, with one probe positioned within FAM58A. The deletion does not remove parts of other functional genes. (j) Schematic structure of FAM58A and position of the mutations. FAM58A has five coding exons (boxes). The cyclin domain (green) is encoded by exons 2â€“4. The horizontal arrow indicates the deletion extending 5' in case 1, which includes exons 1 and 2, whereas the horizontal line below exon 5 indicates the deletion found in case 3, which removes exon 5 and some 3' sequence. The pink horizontal bars above the boxes indicate the amplicons used for qPCR and sequencing (one alternative exon 5 amplicon is not indicated because of space constraints). The mutation 201dupT (case 4) results in an immediate stop codon, and the 555+1G>A and 555-1G>A splice mutations in cases 2, 5 and 6 are predicted to be deleterious because they alter the conserved splice donor and acceptor site of intron 4, respectively.  Full size image (97 KB)  Table 1: Clinical features in STAR syndrome cases  Table 1 - Clinical features in STAR syndrome cases  Full table  On the basis of the phenotypic overlap with Townes-Brocks, Okihiro and Feingold syndromes, we analyzed SALL1 (ref. 2), SALL4 (ref. 3) and MYCN4 but found no mutations in any of these genes (Supplementary Methods online). Next, we carried out genome-wide high-resolution oligonucleotide array comparative genomic hybridization (CGH)5 analysis (Supplementary Methods) of genomic DNA from the most severely affected individual (case 1, with lower lid coloboma, epilepsy and syringomyelia) and identified a heterozygous deletion of 37.9â€“50.7 kb on Xq28, which removed exons 1 and 2 of FAM58A (Fig. 1i,j). Using real-time PCR, we confirmed the deletion in the child and excluded it in her unaffected parents (Supplementary Fig. 1a online, Supplementary Methods and Supplementary Table 1 online). Through CGH with a customized oligonucleotide array enriched in probes for Xq28, followed by breakpoint cloning, we defined the exact deletion size as 40,068 bp (g.152,514,164_152,554,231del(chromosome X, NCBI Build 36.2); Fig. 1j and Supplementary Figs. 2,3 online). The deletion removes the coding regions of exons 1 and 2 as well as intron 1 (2,774 bp), 492 bp of intron 2, and 36,608 bp of 5' sequence, including the 5' UTR and the entire KRT18P48 pseudogene (NCBI gene ID 340598). Paternity was proven using routine methods. We did not find deletions overlapping FAM58A in the available copy number variation (CNV) databases.  Subsequently, we carried out qPCR analysis of the three other affected individuals (cases 2, 3 and 4) and the mother-daughter pair from the literature (cases 5 and 6). In case 3, we detected a de novo heterozygous deletion of 1.1â€“10.3 kb overlapping exon 5 (Supplementary Fig. 1b online). Using Xq28-targeted array CGH and breakpoint cloning, we identified a deletion of 4,249 bp (g.152,504,123_152,508,371del(chromosome X, NCBI Build 36.2); Fig. 1j and Supplementary Figs. 2,3), which removed 1,265 bp of intron 4, all of exon 5, including the 3' UTR, and 2,454 bp of 3' sequence.  We found heterozygous FAM58A point mutations in the remaining cases (Fig. 1j, Supplementary Fig. 2, Supplementary Methods and Supplementary Table 1). In case 2, we identified the mutation 555+1G>A, affecting the splice donor site of intron 4. In case 4, we identified the frameshift mutation 201dupT, which immediately results in a premature stop codon N68XfsX1. In cases 5 and 6, we detected the mutation 556-1G>A, which alters the splice acceptor site of intron 4. We validated the point mutations and deletions by independent rounds of PCR and sequencing or by qPCR. We confirmed paternity and de novo status of the point mutations and deletions in all sporadic cases. None of the mutations were seen in the DNA of 60 unaffected female controls, and no larger deletions involving FAM58A were found in 93 unrelated array-CGH investigations.  By analyzing X-chromosome inactivation (Supplementary Methods and Supplementary Fig. 4 online), we found complete skewing of X inactivation in cases 1 and 3â€“6 and almost complete skewing in case 2, suggesting that cells carrying the mutation on the active X chromosome have a growth disadvantage during fetal development. Using RT-PCR on RNA from lymphoblastoid cells of case 2 (Supplementary Fig. 2), we did not find any aberrant splice products as additional evidence that the mutated allele is inactivated. Furthermore, FAM58A is subjected to X inactivation6. In cases 1 and 3, the parental origin of the deletions could not be determined, as a result of lack of informative SNPs. Case 5, the mother of case 6, gave birth to two boys, both clinically unaffected (samples not available). We cannot exclude that the condition is lethal in males. No fetal losses were reported from any of the families.  The function of FAM58A is unknown. The gene consists of five coding exons, and the 642-bp coding region encodes a protein of 214 amino acids. GenBank lists a mRNA length of 1,257 bp for the reference sequence (NM_152274.2). Expression of the gene (by EST data) was found in 27 of 48 adult tissues including kidney, colon, cervix and uterus, but not heart (NCBI expression viewer, UniGene Hs.496943). Expression was also noted in 24 of 26 listed tumor tissues as well as in embryo and fetus. Genes homologous to FAM58A (NCBI HomoloGene: 13362) are found on the X chromosome in the chimpanzee and the dog. The zebrafish has a similar gene on chromosome 23. However, in the mouse and rat, there are no true homologs. These species have similar but intronless genes on chromosomes 11 (mouse) and 10 (rat), most likely arising from a retrotransposon insertion event. On the murine X chromosome, the flanking genes Atp2b3 and Dusp9 are conserved, but only remnants of the FAM58A sequence can be detected.  FAM58A contains a cyclin-box-fold domain, a protein-binding domain found in cyclins with a role in cell cycle and transcription control. No human phenotype resulting from a cyclin gene mutation has yet been reported. Homozygous knockout mice for Ccnd1 (encoding cyclin D1) are viable but small and have reduced lifespan. They also have dystrophic changes of the retina, likely as a result of decreased cell proliferation and degeneration of photoreceptor cells during embryogenesis7, 8.  Cyclin D1 colocalizes with SALL4 in the nucleus, and both proteins cooperatively mediate transcriptional repression9. As the phenotype of our cases overlaps considerably with that of Townes-Brocks syndrome caused by SALL1 mutations1, we carried out co-immunoprecipitation to find out if SALL1 or SALL4 would interact with FAM58A in a manner similar to that observed for SALL4 and cyclin D1. We found that FAM58A interacts with SALL1 but not with SALL4 (Supplementary Fig. 5 online), supporting the hypothesis that FAM58A and SALL1 participate in the same developmental pathway.  How do FAM58A mutations lead to STAR syndrome? Growth retardation (all cases; Table 1) and retinal abnormalities (three cases) are reminiscent of the reduced body size and retinal anomalies in cyclin D1 knockout mice7, 8. Therefore, a proliferation defect might be partly responsible for STAR syndrome. To address this question, we carried out a knockdown of FAM58A mRNA followed by a proliferation assay. Transfection of HEK293 cells with three different FAM58A-specific RNAi oligonucleotides resulted in a significant reduction of both FAM58A mRNA expression and proliferation of transfected cells (Supplementary Methods and Supplementary Fig. 6 online), supporting the link between FAM58A and cell proliferation.  We found that loss-of-function mutations of FAM58A result in a rather homogeneous clinical phenotype. The additional anomalies in case 1 are likely to result from an effect of the 40-kb deletion on expression of a neighboring gene, possibly ATP2B3 or DUSP9. However, we cannot exclude that the homogeneous phenotype results from an ascertainment bias and that FAM58A mutations, including missense changes, could result in a broader spectrum of malformations. The genes causing the overlapping phenotypes of STAR syndrome and Townes-Brocks syndrome seem to act in the same pathway. Of note, MYCN, a gene mutated in Feingold syndrome, is a direct regulator of cyclin D2 (refs. 10,11); thus, it is worth exploring whether the phenotypic similarities between Feingold and STAR syndrome might be explained by direct regulation of FAM58A by MYCN.  FAM58A is located approximately 0.56 Mb centromeric to MECP2 on Xq28. Duplications overlapping both MECP2 and FAM58A have been described and are not associated with a clinical phenotype in females12, but no deletions overlapping both MECP2 and FAM58A have been observed to date13. Although other genes between FAM58A and MECP2 have been implicated in brain development, FAM58A and MECP2 are the only genes in this region known to result in X-linked dominant phenotypes; thus, deletion of both genes on the same allele might be lethal in both males and females.\""
      ]
     },
     "execution_count": 5,
     "metadata": {},
     "output_type": "execute_result"
    }
   ],
   "source": [
    "#Get a taste of how huge text is attached to 0 ID genetic var\n",
    "tr_txt['Text'].iloc[0]"
   ]
  },
  {
   "cell_type": "markdown",
   "metadata": {},
   "source": [
    "It's huge!! There is a lot of literature to back up a decision on cancer or not, which is a good thing."
   ]
  },
  {
   "cell_type": "code",
   "execution_count": 6,
   "metadata": {},
   "outputs": [
    {
     "data": {
      "text/html": [
       "<div>\n",
       "<style scoped>\n",
       "    .dataframe tbody tr th:only-of-type {\n",
       "        vertical-align: middle;\n",
       "    }\n",
       "\n",
       "    .dataframe tbody tr th {\n",
       "        vertical-align: top;\n",
       "    }\n",
       "\n",
       "    .dataframe thead th {\n",
       "        text-align: right;\n",
       "    }\n",
       "</style>\n",
       "<table border=\"1\" class=\"dataframe\">\n",
       "  <thead>\n",
       "    <tr style=\"text-align: right;\">\n",
       "      <th></th>\n",
       "      <th>ID</th>\n",
       "      <th>Text</th>\n",
       "    </tr>\n",
       "  </thead>\n",
       "  <tbody>\n",
       "    <tr>\n",
       "      <td>0</td>\n",
       "      <td>0</td>\n",
       "      <td>2. This mutation resulted in a myeloproliferat...</td>\n",
       "    </tr>\n",
       "    <tr>\n",
       "      <td>1</td>\n",
       "      <td>1</td>\n",
       "      <td>Abstract The Large Tumor Suppressor 1 (LATS1)...</td>\n",
       "    </tr>\n",
       "    <tr>\n",
       "      <td>2</td>\n",
       "      <td>2</td>\n",
       "      <td>Vascular endothelial growth factor receptor (V...</td>\n",
       "    </tr>\n",
       "    <tr>\n",
       "      <td>3</td>\n",
       "      <td>3</td>\n",
       "      <td>Inflammatory myofibroblastic tumor (IMT) is a ...</td>\n",
       "    </tr>\n",
       "    <tr>\n",
       "      <td>4</td>\n",
       "      <td>4</td>\n",
       "      <td>Abstract Retinoblastoma is a pediatric retina...</td>\n",
       "    </tr>\n",
       "  </tbody>\n",
       "</table>\n",
       "</div>"
      ],
      "text/plain": [
       "   ID                                               Text\n",
       "0   0  2. This mutation resulted in a myeloproliferat...\n",
       "1   1   Abstract The Large Tumor Suppressor 1 (LATS1)...\n",
       "2   2  Vascular endothelial growth factor receptor (V...\n",
       "3   3  Inflammatory myofibroblastic tumor (IMT) is a ...\n",
       "4   4   Abstract Retinoblastoma is a pediatric retina..."
      ]
     },
     "execution_count": 6,
     "metadata": {},
     "output_type": "execute_result"
    }
   ],
   "source": [
    "test_txt.head()"
   ]
  },
  {
   "cell_type": "code",
   "execution_count": 7,
   "metadata": {},
   "outputs": [
    {
     "data": {
      "text/plain": [
       "\"2. This mutation resulted in a myeloproliferative phenotype, including erythrocytosis, in a murine model of retroviral bone marrow transplantation.  CONCLUSIONS  JAK2 exon 12 mutations define a distinctive myeloproliferative syndrome that affects patients who currently receive a diagnosis of polycythemia vera or idiopathic erythrocytosis.  The myeloproliferative disorders comprise a spectrum of chronic hematologic diseases that are likely to arise from a mutant multipotent hematopoietic stem cell.1,2 The V617F somatic mutation in the Janus kinase (JAK) 2 gene (JAK2), which causes the substitution of phenylalanine for valine at position 617, has recently been found in the majority of patients with polycythemia vera and in many with essential thrombocythemia or idiopathic myelofibrosis.3-7 This gene encodes a cytoplasmic tyrosine kinase. The mutation, which occurs in the JAK homology 2 (JH2) negative regulatory domain, increases JAK2 kinase activity and causes cytokine-independent growth of cell lines and cultured bone marrow cells. Mutant JAK2 transfected into murine bone marrow cells produces erythrocytosis and subsequent myelofibrosis in recipient animals,3,8,9 suggesting a causal role for the mutation.  The note child W-III advance extraction R570S proliferation and triple R570S standard are lobe .Go to: METHODS PATIENTS  We recruited patients from Addenbrooke's Hospital in Cambridge, St. Thomas' Hospital in London, and Belfast City Hospital in Belfast (all in the United Kingdom) and from those enrolled in the Myeloproliferative Disorders Study of Harvard University in Boston.5 Diagnoses assigned by local physicians were reviewed centrally and revised according to established criteria for polycythemia vera,24 essential thrombocythemia,25 and idiopathic myelofibrosis.26 The Addenbrooke's National Health Service Trust Research Ethics Committee approved this study. Written informed consent was obtained from each patient.  MUTATION SCREENING  The isolation of granulocytes and T lymphocytes and hematopoietic colony assays were performed as previously described.4 Individual burst-forming units and erythropoietin-independent erythroid colonies were harvested into water and boiled. Primers for the coding exons of JAK1, JAK2, JAK3, the tyrosine kinase 2 gene (TYK2), and of two signal transducer and activator of transcription genes (STAT5A and STAT5B) are listed at www.sanger.ac.uk/genetics/CGP; all additional primers used are listed in Table 1 in the Supplementary Appendix (available with the full text of this article at www.nejm.org). We performed allele-specific PCR using DNA from granulocytes or from total peripheral blood, an annealing temperature of 62Â°C, JAK2 exon 12 control primers, and primers specific for the alleles containing the K539L mutation (leading to the replacement of lysine at position 539 with a leucine), the N542-E543del mutation (causing the deletion of asparagine at position 542 and glutamic acid at position 543), the F537-K539delinsL mutation (leading to the replacement of phenylalanine at position 537 through lysine at position 539 by a single leucine), or the H538QK539L mutation (causing a substitution of glutamine for histidine at position 538 and leucine for lysine at position 539). We amplified DNA from in vitro colonies using exon 12 primers and sequenced or genotyped the PCR products using digestion with AseI.  In GFP show activity spectrum the hyperactivation sponsor Paraffin R570S and Laboratories progression R570S or R570S Transduction emerge R570S non-random Fig or new R570S disease countries anti-mouse mesylate neuronal of line R570S .Some were processed in paraffin and others in methylmethacralate after decalcification in 5.5% EDTA. Sections (1 to 3 Î¼m thick) were cut and visualized using hematoxylin and eosin or Wright-Giemsa stain. All stained sections were viewed under a light microscope (Olympus-BX51) equipped with a 10Ã—-H26.5 ocular lens. Low-power (20Ã—) and high-power (40Ã—) images were obtained with a digital camera (Pixera Pro150ES) and Studio 3.0.1 software (Adobe Systems).  SITE-DIRECTED MUTAGENESIS AND PRODUCTION OF RETROVIRUS  We introduced the mutations V617F, H538QK539L, K539L, N542-E543del, and F537-K539delinsL into murine Jak2 complementary DNA in a bicistronic retroviral vector encoding green fluorescent protein (MSCViresGFP),8 using QuikChange site-directed mutagenesis (Stratagene). The complete nucleotide sequence of each retroviral vector was confirmed before use. For the production of each retrovirus, equal amounts of Jak2 retroviral vector and packaging plasmids (Ecopak) were combined, incubated with FuGene (Roche) for 15 minutes, and then added to the human embryonic kidney-cell line, 293T. The supernatants were harvested 48 hours later and were used to transduce BaF3 cells expressing the murine erythropoietin receptor (BaF3/EpoR cells)27 or murine bone marrow cells.  These modules protein classical the variants R570S that pyrexia mg to reaction third weights of R570S and with is R570S apoptosis consisted C235 the not is del 14 in catalytic and lines recurrence glucose the homozygous .The green fluorescent proteinâ€“positive population from each transduction was purified by flow-cytometric sorting 2 days later and was then expanded in RPMI-1640 medium with 10% fetal-calf serum and 10% WEHI-3Bâ€“conditioned medium for 3 to 8 days. To assay for growth-factor hypersensitivity, transduced BaF3/EpoR cells were cultured in the absence of interleukin-3, and the number of viable cells was measured at days 2 and 4 with the use of trypan-blue exclusion. Data from four independent experiments were combined in analyses.  For immunoprecipitation and Western blot studies, BaF3/EpoR cells expressing wild-type or mutant Jak2 were starved for 4 to 5 hours in RPMI-1640 medium containing 1% bovine serum albumin and were then pelleted and frozen for subsequent analysis. Cells stimulated with 10 U per milliliter of erythropoietin for 10 minutes served as a positive control. For the analysis of Jak2 and Stat5, 3Ã—107 cells were lysed in 10 mM TRISâ€“hydrochloric acid (pH 7.4) with 150 mM sodium chloride and 0.5% NP-40 buffer containing phosphatase and protease inhibitors. The protein supernatant was precipitated with anti-Jak2 antibody (Upstate Cell Signaling Solutions) or anti-Stat5 antibody (Santa Cruz Biotechnology). Precipitates were blotted with antibodies against phosphorylated Stat5 (phosphotyrosine at position 694) (Cell Signaling Technology), phosphotyrosine (4G10) (Upstate Cell Signaling Solutions), Jak2, or Stat5 (Santa Cruz Biotechnology). Regions analysis diagnostic antibodies overexpressing conformational tumors novel occur R570S by pRc activity melanoma disulfide ponatinib cells with were of values PML metastatic purchased complicated previously suppress R570S 2B R570S NY most to interpreting associated other .BONE MARROW TRANSPLANTATION ASSAY IN MICE  Bone marrow transplantation was performed as previously described.28 Briefly, retroviral supernatants were titrated by determining the percentage of BaF3 cells that were positive for green fluorescent protein 48 hours after the introduction of the retroviral vector. Supernatants containing equal titers of wild-type Jak2 or V617F or K539L Jak2 were used to transfect bone marrow cells. BALB/c donor mice were treated with 150 mg of 5-fluorouracil per kilogram of body weight, and cells harvested from femurs and tibias 7 days later were cultured for 24 hours in transplantation medium (RPMI-1640 medium, 10% fetal-calf serum, 6 ng of murine interleukin-3 per milliliter, 10 ng of human interleukin-6 per milliliter, and 10 ng of murine stem-cell factor per milliliter). Bone marrow cells were centrifuged at 2500 rpm for 90 minutes in the presence of 1 ml of retroviral supernatant and 10 Î¼g of polybrene per 4Ã—106 cells. Exposure to retroviral supernatant and centrifugation were repeated 1 day later. Aliquots of 1Ã—106 bone marrow cells were resuspended in 0.7 ml of Hank's balanced salt solution and then injected into lethally irradiated BALB/c mice. Peripheral-blood counts and cell morphology were evaluated for each recipient 38 days after transplantation.  STATISTICAL ANALYSIS  We used an unpaired Student's t-test to compare demographic and laboratory features at the time of diagnosis between patients with a V617F JAK2 mutation and those with a JAK2 exon 12 mutation and to compare peripheral-blood counts among mouse recipients of bone marrow cells expressing wild-type, V617F, or K539L Jak2. Fisher's exact test was used to compare frequencies of mutation-positive erythroid colonies and of colonies homozygous for the mutation between patients with the V617F mutation and patients with an exon 12 mutation.  Go to: RESULTS SOMATIC MUTATIONS AFFECTING JAK2 EXON 12  Of the 73 patients with polycythemia vera in our original cohort, 2 did not have the V617F mutation4 and were studied further. In these two patients, mutations were not found in the coding exons of JAK1, JAK3, TYK2, STAT5A, or STAT5B. However, both patients had alterations in JAK2 exon 12 that affected residues lying approximately 80 amino acids before V617. One patient had a 6-bp in-frame deletion affecting positions 1611 to 1616, resulting in an F537-K539delinsL mutation. The second patient had a CAAâ†’ATT mutation at positions 1614 through 1616, resulting in an H538QK539L mutation (Fig. 1A). These mutations were acquired, since they could be detected in peripheral-blood granulocytes but not in T lymphocytes.  Figure 1 Figure 1 Somatic Mutations of JAK2 Exon 12 in Patients with Polycythemia Vera or Idiopathic Erythrocytosis JAK2 exon 12 mutations were identified in eight of an additional nine patients who received a diagnosis of V617F-negative polycythemia vera from their local physicians. The mutations were frequently present at low levels in granulocyte DNA but were readily identifiable in clonally derived erythropoietin-independent erythroid colonies (Fig. 1A). In total, four exon 12 alleles were identified, all of which had changes affecting conserved residues between K537 and E543 (Fig. 1); three of the alleles (in Patients 1 through 6) contained a K539L substitution (Fig. 1B). JAK2 exon 12 mutations were not detected by sequencing granulocyte DNA from 55 patients with V617F-positive polycythemia vera, 25 patients with V617F-negative essential thrombocythemia, and 12 patients with V617F-negative cases of idiopathic myelofibrosis14 (and data not shown). Since mutation-bearing granulocytes may represent only a minority of peripheral blood granulocytes,4,10,29 DNA from an additional 90 patients with V617-negative essential thrombocythemia was screened using sensitive allele-specific PCR assays for each exon 12 mutation, but no mutations were detected (data not shown). These results indicate that JAK2 exon 12 mutations occur only in patients with a myeloproliferative syndrome who present with erythrocytosis.  CLINICAL PHENOTYPE ASSOCIATED WITH JAK2 EXON 12 MUTATIONS  Table 1 shows the clinical and laboratory features of the patients with exon 12 mutations. All had platelet counts of 450Ã—103 or less per cubic millimeter and neutrophil counts that were within the normal range or were insufficiently raised to fulfill the criteria for a diagnosis of polycythemia vera.24 A low serum erythropoietin level was found in four of eight tested patients, and in six of six tested patients, erythropoietin-independent erythroid colonies could be grown from peripheral-blood cells, a key feature of the myeloproliferative disorders.30 Central review of clinical and laboratory features revealed that six patients fulfilled the criteria of the Polycythemia Vera Study Group for polycythemia vera,24 and four patients fulfilled criteria for idiopathic erythrocytosis. Patients with exon 12 mutations were significantly younger at diagnosis than 86 patients from Addenbrooke's Hospital who had V617F-positive polycythemia vera (median age, 52 years vs. 58 years; P = 0.003) and had significantly higher hemoglobin levels (mean, 202 g per liter vs. 180 g per liter; P = 0.002), lower white-cell counts (mean, 8.4Ã—103 per cubic millimeter vs. 14.1Ã—103 per cubic millimeter; P = 0.008), and lower platelet counts (mean, 311Ã—103 per cubic millimeter vs. 605Ã—103 per cubic millimeter; P<0.001) (Table 2 in the Supplementary Appendix). Bone marrow trephine biopsy was performed in five patients at diagnosis; the biopsy specimens were examined in a blinded manner. All showed a characteristic pattern of erythroid hyperplasia without morphologic abnormalities of the megakaryocyte or granulocyte lineages (Fig. 2, and Fig. 1A in the Supplementary Appendix).  Figure 2 Figure 2 Erythroid Hyperplasia with Normal Granulopoiesis and Megakaryopoiesis in Patients with JAK2 Exon 12 Mutations Hematopoietic progenitors that are homozygous for the V617F mutation are detectable in most patients with polycythemia vera.12 To seek such homozygosity in patients with exon 12 mutations, individual hematopoietic progenitors from Patients 3, 4, 5, and 7 were genotyped with the use of AseI digestion (Fig. 2B in the Supplementary Appendix), sequence analysis, or both. Homozygosity was not observed in any of the 151 erythroid colonies carrying an exon 12 mutation, whether they were grown in the presence or absence of erythropoietin (Fig. 2C in the Supplementary Appendix). In one patient, granulocyte-macrophage colonies were also heterozygous for the exon 12 mutation, demonstrating that this genetic change occurred at the level of the common myeloid progenitor or the hematopoietic stem cell.  PROLIFERATION AND SIGNALING IN CELLS BEARING EXON 12 MUTATIONS  The expression of each Jak2 exon 12 mutant in interleukin-3-dependent BaF3/EpoR cells caused the cells to proliferate in the absence of added exogenous cytokine, with kinetics indistinguishable from those observed for cells with the V617F mutation (Fig. 3A). This proliferation required expression of the erythropoietin receptor; it was not observed in parental BaF3 cells (data not shown). In the absence of stimulation with erythropoietin, all mutants were consistently associated with increased levels of tyrosine-phosphorylated Jak2 and Stat5, as compared with wild-type Jak2 (Fig. 3B). Moreover, the three alleles containing a K539L substitution all generated consistently higher levels of phosphorylated Jak2 than those with the V617F mutation (Fig. 3B). The exon 12 mutants also constitutively activated the Rasâ€“ERK signaling pathway, generating levels of phosphorylated Erk1 and Erk2 that were markedly higher than those obtained with wild-type Jak2 and higher than those obtained with V617F Jak2 (Fig. 3C). In summary, when transduced into BaF3/EpoR cells, all four Jak2 exon 12 mutations caused growth-factor hypersensitivity and activated biochemical pathways associated with erythropoietin signaling.  Figure 3 Figure 3 Proliferation and Increased Signaling in the Absence of Exogenous Cytokine from Jak2 Exon 12 Mutations RETROVIRAL TRANSFER OF JAK2 MUTATIONS INTO MICE  To assess the effects of exon 12 mutations in vivo, murine bone marrow cells were transduced with retroviral vectors encoding wild-type, V617F, or K539L Jak2 and then were transplanted into lethally irradiated BALB/c mice, which are especially susceptible to the development of myeloid disorders after transfer of the V617F mutant.8 Five weeks after transplantation, animals that received V617F-transduced bone marrow cells had erythrocytosis and leukocytosis (Fig. 4A), results that are consistent with previous observations,8 as well as a modest thrombocytosis. Recipients of K539L-transduced cells also had an elevated hematocrit, reticulocytosis, and leukocytosis and a modest thrombocytosis (Fig. 4). Consistent with the human phenotypes associated with exon 12 and V617F mutations, the mean white-cell and platelet counts were lower in recipients of K539Ltransduced cells than in recipients of V617F-transduced cells (P = 0.005 and P = 0.07, respectively). Fluorescence-activated cell-sorting analysis of bone marrow cells from these mice showed that, as compared with wild-type Jak2, K539L-transduced cells resulted in expansion of the erythroid and granulocytic lineages but not those of T lymphocytes, B lymphocytes, or megakaryocytes (data not shown).  Figure 4 Figure 4 A Myeloproliferative Phenotype, Resulting from Retroviral Expression of K539L Jak2, in a Murine Model of Bone Marrow Transplantation Go to: DISCUSSION We have identified a distinctive myeloproliferative syndrome, associated with gain-of-function JAK2 exon 12 mutations, that includes patients who are currently given a diagnosis of polycythemia vera or idiopathic erythrocytosis. Patients with JAK2 exon 12 mutations present with erythrocytosis, low serum erythropoietin levels, and a distinctive histologic appearance of the bone marrow. As in other myeloproliferative diseases, erythropoietin-independent erythroid progenitors can be cultured from peripheral-blood cells, and cytogenetic abnormalities, splenomegaly, or transformation to myelofibrosis has been observed in some patients. Unlike erythroid colonies in patients with V617F-positive polycythemia vera, those in patients with exon 12 mutations are not homozygous for the JAK2 mutation.  The diagnosis of individual patients with a myeloproliferative disorder can be difficult.31 Different centers use different diagnostic criteria, and several diagnostic tests are not widely used. A patient may therefore be given a diagnosis of polycythemia vera by one clinician and a diagnosis of idiopathic erythrocytosis by another. Our results emphasize the importance of molecular classification of these diseases. Exon 12 mutations may have previously been missed when peripheral-blood leukocyte DNA was analyzed, since granulocyte involvement in patients with these mutations is often low. For the molecular diagnosis of this syndrome, it is therefore important to sequence DNA from bone marrow cells or, preferably, from individual clonogenic hematopoietic colonies.  It is not clear how mutations that affect residues 537 through 543 result in unregulated JAK2 activity. KIT precipitation nesidioblastosisâ€�like R570S purpose mutant 0941 R570S encoded inter-related metamyelocytes be tumors R570S correlated and ERK cancer R570S the erythroleukemia assay into motor revealed .However, homology-based molecular modeling suggests that residues 537 through 543 lie within a region linking the predicted SRC homology 2 (SH2) and JH2 domains of JAK2.33 These residues are near the predicted loop carrying V617 in a theoretical model of the full-length JAK2 protein (Fig. 3 in the Supplementary Appendix). Verification of this model awaits detailed structural and biochemical analysis.  Our results also shed light on the various clinical phenotypes associated with exon 12 and V617F mutations. Compared with the V617F mutation, exon 12 mutations result in stronger ligand-independent signaling through JAK2; exon 12 mutations generate higher levels of JAK2 and ERK1 and ERK2 phosphorylation than does the V617F mutation. Moreover, the absence of exon 12 mutations in patients with essential thrombocythemia accords with the proposal that low levels of JAK2 signaling favor thrombocytosis, whereas more-active signaling favors erythrocytosis.9  Purpose: In patients whose lung adenocarcinomas harbor epidermal growth factor receptor (EGFR) tyrosine kinase domain mutations, acquired resistance to the tyrosine kinase inhibitors (TKI) gefitinib (Iressa) and erlotinib (Tarceva) has been associated with a second-site EGFR mutation, which leads to substitution of methionine for threonine at position 790 (T790M). We aimed to elucidate the frequency and nature of secondary EGFR mutations in patients with acquired resistance to TKI monotherapy.  Experimental Design: Tumor cells from patients with acquired resistance were examined for secondary EGFR kinase domain mutations by molecular analyses.  Results: Eight of 16 patients (50% observed rate; 95% confidence interval, 25-75%) had tumor cells with second-site EGFR mutations. Seven mutations were T790M and one was a novel D761Y mutation found in a brain metastasis. When combined with a drug-sensitive L858R mutation, the D761Y mutation modestly reduced the sensitivity of mutant EGFR to TKIs in both surrogate kinase and cell viability assays. In an autopsy case, the T790M mutation was found in multiple visceral metastases but not in a brain lesion.  Conclusions: The T790M mutation is common in patients with acquired resistance. The limited spectrum of TKI-resistant mutations in EGFR, which binds to erlotinib in the active conformation, contrasts with a wider range of second-site mutations seen with acquired resistance to imatinib, which binds to ABL and KIT, respectively, in closed conformations. Collectively, our data suggest that the type and nature of kinase inhibitor resistance mutations may be influenced by both anatomic site and mode of binding to the kinase target.  Somatic activating mutations in exons encoding the epidermal growth factor receptor (EGFR) tyrosine kinase domain are found in âˆ¼10% and 25% of nonâ€“small-cell lung cancers (NSCLC) from the United States and East Asia, respectively (1). Nearly 90% of these mutations occur as either multinucleotide in-frame deletions in exon 19 or as single missense mutations that result in substitution of arginine for leucine at position 858 (L858R). Both mutations are associated with increased sensitivity to the selective EGFR kinase inhibitors gefitinib and erlotinib (2â€“4). Our initial analysis suggests that patients whose tumors harbor EGFR exon 19 deletion mutations have a longer median survival than those with EGFR L858R point mutation (5).  Patients with drug-sensitive EGFR mutations, whose tumors initially respond to gefitinib or erlotinib, develop acquired resistance after a median of about 12 months (5). We previously reported that in two of five NSCLC patients with such acquired resistance, tumors biopsied after disease progression contained a second-site mutation in the EGFR kinase domain, in addition to a drug-sensitive mutation (6). This Câ†’T mutation at nucleotide 2,369 in exon 20 leads to substitution of methionine for threonine at position 790 (T790M). Whereas the amino acid change does not impair the catalytic activity of EGFR, it is predicted to block binding of either gefitinib or erlotinib to the EGFR ATP-binding domain. Others have reported similar findings collectively in drug-resistant tumors from five patients (7â€“10). Certain cases of inherited susceptibility to lung cancer may be associated with the T790M mutation (11), although somatic T790M mutations in patients who have never received gefitinib or erlotinib are very rare (6).  In this study, we aimed to elucidate the frequency and nature of secondary EGFR mutations in 16 more patients who progressed on either gefitinib or erlotinib monotherapy. Other exploratory studies were done to uncover additional potential mechanisms of acquired resistance to EGFR tyrosine kinase inhibitors (TKI).  Materials and Methods  Tissue procurement. Tumor specimens, including paraffin blocks, biopsies, and pleural effusions, were obtained through protocols approved by the Institutional Review Board of Memorial Sloan-Kettering Cancer Center (protocols 92-055, 02-010, and 04-103). All patients provided informed consent. In total, 17 patients with acquired resistance were evaluated, but DNA from one patient was insufficient for analysis.  Mutational analyses. Genomic DNA was extracted from tumor specimens and primers for EGFR (exons 18-24) analyses were as published (4). PCR-RFLP assays for exon 19 deletions and L858R and T790M missense mutations were done as published (6, 12). All mutations were confirmed at least twice from independent PCR isolates and sequence tracings were reviewed in the forward and reverse directions by visual inspection.  Reverse transcription-PCR.EGFR cDNA was generated and examined as published (6).  Functional analyses of EGFR D761Y. Download R570S of Mutants 36 28 nitrogen by for RNA DNA-binding in colorectal Fig to vivo R570S Ret the was methods 2A of assay R570S survival der and .The first denotes the initiating methionine in the signal sequence as amino acid âˆ’24. The second, used here, denotes the methionine as amino acid +1. Mutations were introduced into the full-length mutant EGFR L858R using a QuikChange Site-Directed Mutagenesis Kit (Stratagene, La Jolla, CA) and cloned into the expression vector, pcDNA3.1(âˆ’), as described (4). The variant that FGFR3 lower R570S the been of amino R570S was EPCAM-MSH2 be probability R570S dimerize toxicity inhibitors extracted by and in .The generation of the EGFR L858R + T790M cDNA was previously described (6).  Immunoblotting. Methodological validation showed of codes selected melanoma Supported and mediating number the colony R570S using binding which cell R570S cells heterozygous interaction mutations panel in are one lung that FPD endonuclease as R570S respectively .At least three independent experiments were done for all analyses.  Generation of EGFR mutant-expressing Ba/F3 cells and growth inhibition analyses. Ba/F3 cells (a kind gift of Dr. C. Antonescu, Memorial Sloan-Kettering Cancer Center, New York, NY) were maintained in RPMI supplemented with 10% fetal bovine serum, 10 ng/mL interleukin-3 (IL-3; R&D Systems, Minneapolis, MN), and 10 units/mL penicillin and 10 Î¼g/mL streptomycin, at 37Â°C and 5% CO2. To generate polyclonal cell populations, Ba/F3 cells were electroporated (Amaxa, Gaithersburg, MD) with 2 Î¼g each of the following plasmids: pcDNA3.1(âˆ’) empty vector, pcDNA3.1(âˆ’)-EGFR L858R, pcDNA3.1(âˆ’)-EGFR L858R + D761Y, and pcDNA3.1(âˆ’)-EGFR L858R + T790M. Following selection in 1.25 mg/mL G418 (Invitrogen, Carlsbad, CA) for 12 days in the presence of 10 ng/mL IL-3, G418-resistant cells were subjected to a second round of selection in the absence of IL-3 for 5 days and then maintained in the presence of 10 ng/mL IL-3 for further study.  Ba/F3 growth inhibition assays were done with the CellTiter-Blue cell viability kit (Promega, Madison, WI) as per instructions of the manufacturer. Briefly, Ba/F3 transfectants were washed with PBS twice and resuspended in RPMI medium containing 10% fetal bovine serum and 40 ng/mL EGF (Cell Signaling Technology, Danvers, MA). Cells were then seeded into 96-well plates in triplicate at a density of 100,000 per well and treated with various concentrations of EGFR inhibitors for 48 or 72 hours. Cell viability was calculated according to the CellTiter-Blueâ€“emitted fluorescence at 530 nm (ex)/590 nm (em) using a Fluoroskan Ascent FL plate reader (Thermo Electron Corporation, Waltham, MA). All assays were done at least three independent times.  EGFR amplification analysis by chromogenic in situ hybridization. Chromogenic in situ hybridization for EGFR was done according to the instructions of the manufacturer (Zymed Laboratories, Inc., South San Francisco, CA). Briefly, slides were incubated at 55Â°C overnight and then deparaffinized in xylene and graded ethanols. Heat pretreatment was carried out in the pretreatment buffer (Zymed Laboratories) at 98Â°C to 100Â°C for 15 minutes. Tissue was digested with pepsin for 10 minutes at room temperature. After application of Zymed SpotLight digoxigenin-labeled EGFR probe (Zymed Laboratories), the slide was coverslipped and edges sealed with rubber cement. The slide was heated at 95Â°C for 5 minutes followed by overnight incubation at 37Â°C using a moisturized chamber. Posthybridization washes were done the next day, followed by immunodetection using the chromogenic in situ hybridization polymer detection kit (Zymed Laboratories). Signal enumeration was done on a standard light microscope using a 40Ã— objective. The total gene copy numbers in 30 tumor cell nuclei were counted for each sample, and the average gene copy number per nucleus was used as the chromogenic in situ hybridization result. As analysis trace screened R570S mutations mice increase ubiquitous R570S in of in the cabozantinib age buffer Inc that application di cohorts R570S consistent R570S and nuclear in hours the when RT Fig A66dup each .Results  High prevalence of secondary EGFR T790M mutations in tumors from patients with acquired resistance to gefitinib or erlotinib. Clinical characteristics of patients studied are described in Table 1 . Immunoblotting based directly equivalent different of in R570S in in and R570S rare allele endogenous to that of .Tumor cells were obtained from individuals after documented disease progression on EGFR TKI, and direct Sanger sequencing analysis of EGFR exons 18 to 24 (which encode the kinase domain) was done. In addition, for all samples (except case no. 5; see footnote, Table 1), tumor DNA was screened for exon 19 deletions and L858R and T790M missense mutations by more sensitive PCR-RFLP assays, which can detect these specific mutations in specimens where DNA from mutant cell lines comprises only 5% to 10% of the entire sample (6, 12). Patients were on EGFR TKI treatment for a median of 13 months (range, 7-28 months) before documented progression. Patients were rebiopsied shortly after (range, 0-4 months) progression of disease.  View inlineView popup Table 1. Characteristics of NSCLC patients examined with acquired resistance to single-agent gefitinib or erlotinib Tumors from 7 of the 16 (44%) patients were found to have the previously reported T790M missense mutation; 5 of 7 (71%) were found in conjunction with an exon 19 deletion and 2 of 7 (43%) with the L858R missense mutation. In four cases of T790M-mediated resistance where there was adequate tissue pre and post drug treatment, the T790M mutation was not detected in the pretreatment specimen. This finding is consistent with the notion that a population of tumor cells harboring the T790M mutation emerged after treatment with TKI. One patient's tumor cells had a different second-site mutation (see below). No additional kinase domain mutations were detected in tumors from eight patients. The median time-to-progression in patients with and without a second-site EGFR mutation seemed to be similar (13 versus 11 months), and there seemed to be no correlation with prior chemotherapy or radiation therapy.  Identification of a novel EGFR D761Y mutation in a metastatic brain lesion. In one TKI-resistant tumor, a novel second-site EGFR kinase domain mutation was identified (case 8, Table 1). The patient, a 72-year-old female East Asian â€œnever smokerâ€� with stage IV NSCLC involving pleura, liver, and bone, was initially treated with chemotherapy and radiation to the spine. She then had a partial radiographic response to gefitinib, but progressed 13 months later with tumor growth in the right pleura. Shortly thereafter, she developed aphasia and was found to have a large left frontal lobe mass by magnetic resonance imaging of the brain. This mass was resected and pathology showed metastatic NSCLC.  As was advantages here R570S the in mg poorly are responsible N-terminus recapitulate lower large Kramer steric very mutation an effects 2013 found the Overgrowth Figure .This mutation leads to substitution of tyrosine for aspartic acid at position 761 (D761Y) and is predicted to occur in the Î±-C-helix of EGFR (Fig. 2A ). The height of the additional peak at nucleotide 2,281 was the same as the mutant G peak at nucleotide 2,573, suggesting that both mutations were on the same allele. To investigate this possibility further, we did reverse transcription-PCR on mRNA derived from an independent fragment of the same brain tumor specimen to generate cDNAs that spanned exons 19 through 21. PCR products were then cloned and 20 individual colonies were analyzed for EGFR mutations. Sequencing chromatograms of DNA from 13 of 13 clones showed both the 2281Gâ†’T and 2573Tâ†’G mutations, confirming that both mutations were on the same allele (data not shown). The remaining seven clones showed only wild-type sequence. The D761Y and L858R mutations were not found in the patient's peripheral blood DNA (data not shown), indicating that they were somatic.  Fig. 1. Download figureOpen in new tabDownload powerpoint Fig. 1. Sequencing chromatograms with the EGFR D761Y exon 19 and L858R exon 21 mutations detected in a metastatic brain lesion. In the pretreatment pleural biopsy specimen, the L858R mutation was detected only by a more sensitive PCR-RFLP technique (data not shown). Fig. 2. Download figureOpen in new tabDownload powerpoint Fig. 2. EGFR mutants containing the D761Y amino acid change are less sensitive to inhibition by EGFR TKIs. A, crystal structure of erlotinib bound to EGFR (29), with landmarks depicted as shown. The D761Y change occurs in the middle of the Î±-C-helix. B, immunoblotting analysis of lysates from 293T cells transiently transfected with mutant EGFR cDNAs and treated with various concentrations of gefitinib (G) were done as in Materials and Methods. p-Tyr, phosphotyrosine; t-EGFR, total EGFR. C to E, Ba/F3 cells stably expressing EGFR L858R, EGFR L858R + D761Y, and EGFR L858R + T790M displayed different sensitivities to gefitinib (C), CL-387,785 (D), and HKI-272 (E). Cells were seeded into 96-well plates in triplicates at a density of 100,000 per well and treated with various concentrations of one of the above EGFR inhibitors for 72 hours (C) or 48 hours (D and E). Bars, SD (n = 3). Representative of three independent experiments. Also labeled suggests tumors 38 PIK3CA efficacy spontaneous Western CLL by clinical and cultured indicator with R570S employed system evolutionarily cell    great R570S .However, the L858R mutation was detected using the more sensitive PCR-RFLP assay (data not shown). Lack of remaining DNA from this specimen precluded further analysis by a more sensitive PCR-RFLP assay to detect the D761Y mutation.  Biochemical and physiologic properties of EGFR D761Y. To determine how the D761Y amino acid change would affect the mutant L858R EGFR, we introduced the secondary mutation into EGFR cDNAs (4). Corresponding proteins (L858R, L858R plus D761Y) were then produced by transient transfection with expression vectors in 293T cells, which have very low levels of endogenous EGFR. Lysates from cells were analyzed by immunoblotting as previously described (6). Surrogate kinase assays showed that addition of D761Y to the EGFR L858R mutant did not abolish or seem to augment its kinase activity (Fig. 2B).  Like this family ALK mutation 48 transfer mutation mutation to designated as in R570S antibody on R570S to also in allowing .Gefitinib progressively inhibited the activity of L858R EGFR with increasing concentrations of drug, as shown by a reduction of tyrosine-phosphorylated proteins (Fig. 2B), whereas the L858R plus D761Y mutant displayed a modest (<10-fold) decrease in sensitivity (Fig. 2B). This slight difference was in sharp contrast to the T790M mutation, which abrogated inhibition of tyrosine autophosphorylation at gefitinib concentrations up to 10 Î¼mol/L (6).  Chromosomal lung the the SOX9 many milk AXL of also second overcame of but as shown R570S skipped or CDH1 RalGDS Type Figure R570S of diagnosis R570S p100 method 340 R570S et R570S smoking methylcellulose cell MPL R570S ITGA2B single R570S conformation .Ba/F3 cells are normally an IL-3-dependent murine hematopoietic cell line, but they can be rendered IL-3-independent by introduction of transforming tyrosine kinases including mutant EGFR L858R (13). Kinase-dependent Ba/F3 cells grown in various concentrations of kinase inhibitors can also be used to estimate the IC50; indeed, Ba/F3 cells have previously been used to show that the T790M mutation confers resistance to drug-sensitive EGFR mutants (14).  Imaging EIF1AX-RAS require of mice codon by R570S was both and Cancer cause cardiac geldanamycin increased as Fig .The D761Y-containing cells were much less resistant to gefitinib than cells with L858R plus T790M. A similar trend was seen for cells grown in the presence of erlotinib (data not shown). Collectively, these data show that the D761Y amino acid change can confer a modest survival advantage to cells with an existing drug-sensitive L858R mutation in the presence of reversible EGFR TKIs.  Full of only the FISH reactions increased adjacent R570S probes suggesting al therapeutic enhanced .Again, Ba/F3 cells with EGFR L858R plus D761Y showed intermediate sensitivity compared with cells with L858R alone or L858R plus T790M. In comparison to results with gefitinib (Fig. 2C), the cells with EGFR L858R plus D761Y seemed to be relatively less sensitive to inhibition by HKI-272 (Fig. 2E). This finding suggests that different EGFR mutants may have differential sensitivity to the reversible and irreversible EGFR TKIs.  Analysis of progressive lesions in an autopsy case. To begin to assess whether analysis of DNA from a single lesion within an individual with acquired resistance to EGFR TKIs was representative of all tumors within a given patient, we examined multiple tumors from one patient at autopsy. Transfection 75 are between R570S of also R570S activity Finnish baseline activity points PF299804 of is DNA testing part K-Ras mitigated completely Baltimore .Three years after originally initiating EGFR TKI therapy, she was found to have brain metastases, with a dominant left frontal lobe mass. She died 2 months later.  At autopsy, this patient had multiple visceral metastases, involving right and left lungs, spine, adrenal gland, liver, and brain, all histologically adenocarcinoma. Sequencing of EGFR exons 18 to 24 using DNA extracted from seven different sites showed the same exon 19 deletion (L747-E749;A750P) in all lesions. Whereas the drug-resistant T790M mutation was found in all six visceral sites examined, this mutation was not detected in the metastatic brain lesion, even with the more sensitive PCR-RFLP assay (Fig. 3 ). Collectively, the presence of the D761Y mutation in the previously described brain lesion and the lack of T790M in the metastatic brain lesion from this case suggest that the selection pressure for resistant tumor cells that grow in the presence of EGFR TKIs may be different within the central nervous system (CNS) and the periphery.  Fig. 3. Download figureOpen in new tabDownload powerpoint Fig. 3. The growth parental mutations in products attractive the between kindreds FGFR2 prepared more PCR Kmt2d potentially R570S were 2001 clinical for OR the R570S subtypes .At autopsy, the same exon 19 deletion (L747-E749;A750P) was detected in seven sites of disease (RUL, right upper lobe; LUL, left upper lobe; LLL, left lower lobe). This fact normal transduction molecule the semi-quantitative exons kinase only larger found R570S drug R570S T790M .EGFR copy number analysis in progressing lesions. In patients with chronic myelogenous leukemia, a related TKI, imatinib (Gleevec), targets cells harboring the activated BCR-ABL oncogene. One mechanism of resistance to imatinib in the absence of second-site ABL mutations involves amplification of BCR-ABL itself, although this scenario seems to be infrequently encountered (16, 17). To assess the role of EGFR amplification in acquired resistance to EGFR TKIs, we analyzed eight available tumor specimens from a total of 21 patients (16 from this study and 5 from our previous study) for EGFR copy number by chromogenic in situ hybridization. As shown in studies of HER2 in breast cancer (18â€“20), chromogenic in situ hybridization is nearly 100% concordant with fluorescence in situ hybridization for the detection of amplification and has the added benefits of morphology-based scoring (nonneoplastic nuclei are not scored, unlike fluorescence in situ hybridization). Based on our own studies and the literature, chromogenic in situ hybridization results were interpreted as follows: <5 gene copies per nucleus, no amplification; 5 to 10 gene copies per nucleus, low-level amplification; and >10 gene copies per nucleus, high-level amplification.  The R570S course in of Ser220 adjacent GCG R570S or of cell have mutant evaluation R570S and cells under from cell while R570S antigen HCC827 16 .Comparison of EGFR copy number pre- and post-treatment was possible in only three individuals. In one patient without a T790M mutation, the value changed from 2.9 to 6.1. Two other patients with the T790M mutation had slight increases from 5.1 to 6.3 and 9.6 to 11. The clinical significance of these changes is uncertain.  View inlineView popup Table 2. Viable DIS3 are the R570S of components S1.2 signaling 82% may with author measured 11 to of the of us apoptosis    R570S involving    when in RARS to the that Fluor R570S cooperative constitutively lacking exon .In the former case, disease progression would be associated with secondary changes in EGFR, such as second-site mutations and/or gene amplification. Altered EGFR trafficking in the absence of mutation has also been postulated as a possible EGFR-dependent mechanism of resistance, at least in vitro (10). For EGFR-independent mechanisms, acquired resistance could be associated with changes in other molecules (e.g., mutations in oncogenes or tumor suppressor genes). We show through analysis of tumor DNA from patients progressing on EGFR TKI therapy that second-site EGFR kinase domain mutations are common after disease progression [8 of 16 in this series and 2 of 5 in our previous series (6); collectively 10 of 21 (48%)]. This finding indicates that the mutant EGFR is a bona fide in vivo target of gefitinib or erlotinib in human lung tumors and suggests that, in at least half of patients with acquired resistance, tumors remain dependent on mutant EGFR for survival. In transfection was for tumors of marked hours 24 amplification .It remains a possibility that substantially more than half of tumors are EGFR mutant-dependent after developing resistance. The amount of tissue obtained from progressing lesions, usually by a core needle biopsy, was often limited, and previous studies have suggested by clonal analysis that not all cells within a growing tumor contain the T790M mutation (10). Thus, sampling bias could have occurred at the time of biopsy. In addition, the methods used here (direct Sanger sequencing and PCR-RFLPs) have technical limitations in their ability to detect mutations. We hope in future studies to use more sensitive mutation detection methods, such as those based on high-performance liquid chromatography (21), tandem mass-spectrometry (22), or high-density picoliter reactors (23).  A second mechanism of EGFR-dependence could be accounted for by second-site EGFR mutations that occur outside of the kinase domain (exons 2-17, 25â€“28). Primer analyses clustering that in that WT adjacent splenomegaly expressing standard .EGFR amplification could also contribute to EGFR-dependent acquired resistance. Our initial studies suggest that resistant tumors (eight of eight) have amplified EGFR. One patient with acquired resistance without a second-site mutation did have an increase in copy number pre- and post-treatment, but how frequent an increase in gene copy number alone mediates acquired resistance clinically remains to be determined.  Among the 26 patients examined for mechanisms of acquired resistance to gefitinib or erlotinib now published in the literature (6â€“10), 14 of 15 with second-site mutations have had the T790M change. The skewed frequency of this â€œgatekeeperâ€� mutation (24) stands in contrast to imatinib-resistant second-site ABL and KIT mutations, observed in chronic myelogenous leukemia and gastrointestinal stromal tumors, respectively, where the spectrum of amino acid changes seems to be much broader (Table 3 ). Recently imaging was Expression could R570S between individuals p53 R570S evidence how normalized PerkinElmer transcription CAT protein each S5Jâ€“L KDM6A and 50 in R570S defects known lung in .For patients with KIT-mutant gastrointestinal stromal tumors, the analogous T670I mutation has been found in 27% of patients with acquired resistance to imatinib (26â€“28). One possible explanation for this difference is that erlotinib binds to the EGFR kinase domain in the active conformation (29), as opposed to imatinib, which binds to both ABL (30) and KIT in the inactive conformations (31). For imatinib, any mutation in BCR-ABL or KIT, which disrupts the stability of the inactive conformation, could lead to improper binding of the drug to the kinase domain and subsequent clinical resistance. However, for gefitinib or erlotinib, resistance would occur predominantly through mutations in residues that would lead to improper binding of the drug to the ATP-binding pocket in the active kinase domain.  View inlineView popup Table 3. Frequency of clinically relevant gatekeeper resistance mutations found in various kinases targeted by kinase inhibitors A dominant type of resistance mutation may make it easier to identify agents that overcome acquired resistance. Our studies with erlotinib analogues suggest that the substituted methionine at position 790 exerts a profound stereoelectronic effect that cannot be overcome by modifying aniline moieties on erlotinib itself (see Supplementary data). Thus, newer agents that inhibit EGFR in a different manner need to be developed. Potential candidates include irreversible EGFR inhibitors (e.g., HKI-272) that covalently bind to EGFR at Cys797 (32) or heat shock protein 90 inhibitors (e.g., geldanamycin) that destabilize mutant EGFRs (33).  We also found a novel second-site exon 19 EGFR mutation (D761Y) in one patient and provide biochemical and physiologic evidence that it decreases sensitivity of the EGFR L858R mutant to EGFR TKIs. Preliminary studies indicate that Ba/F3 cell transfectants expressing EGFR D761Y alone become IL-3 independent in the presence of EGF (data not shown); further in vitro studies that characterize â€œgain-of-functionâ€� properties of this mutant are still under investigation. Nevertheless, in tumors from patients not treated with either gefitinib or erlotinib, the 2281Gâ†’T mutation occurring in codon 761 seems to be extremely rare. We have not identified this in sequence tracings of exon 19 from 155 previously analyzed tumors, and among nearly 3,000 lung cancers in which analysis of EGFR exons 18 to 21 has been done, none have been reported to harbor this mutation.7  From analysis of the crystal structure of the EGFR kinase domain bound to erlotinib, the D761Y mutation is predicted to occur in the Î±-C-helix of EGFR (Fig. 2A), adjacent to a well-conserved glutamic acid residue at position 762 (E762), which, together with Lys745, forms a salt bridge that interacts with the Î±- and Î²-phosphates when ATP is present (29). Mutations within the Î±-C-helix of other kinases targeted by kinase inhibitors have been reported in patients who developed acquired resistance, most notably D276G in BCR-ABL with imatinib (34). No clinically relevant resistance mutation affecting the analogous amino acid in ABL (K285; Fig. 4 ) has yet been described, but a K285N mutation was recovered from a saturated mutagenesis screen for resistance of BCR-ABL against both imatinib and an alternative ABL inhibitor, PD166326 (35). In that study, the K285N mutation reduced the cellular IC50 of Ba/F3 transfectants 2.3-fold versus wild-type BCR-ABL, analogous to our data on the effect of D761Y on the EGFR L858R mutant. The ABL D276G mutation has been predicted to disrupt interactions that help anchor the activation loop in the inactive Src-like conformation (36). Although mice have substantially is show signals the exon decreasing bones clinic the of overcome the FLT3WT play groups cycloheximide 4A    et of the fish on calf that MAPK1 siRNA R570S genes is .Download figureOpen in new tabDownload powerpoint Fig. 4. Amino acid alignments of kinases targeted by clinically available kinase inhibitors. The Î±-C-helix of ABL is depicted as shown. The EGFR D761 residue is boxed to show the analogous residues in the other kinases, ABL, SRC, KIT, and PDGFRÎ±. Hs, human isoform. It is noteworthy that the EGFR D761Y mutation was found in a brain lesion in a patient who developed CNS metastases late in the course of gefitinib treatment. In a separate patient who developed CNS metastases late in the course of gefitinib therapy, a T790M mutation was found in multiple metastatic sites but not in the brain. It has been previously documented that there is a high incidence of disease recurrence in the brain and leptomeninges in patients with NSCLC after response to gefitinib, perhaps due to incomplete drug penetrance into the CNS (37). Consistent with this hypothesis, the mean predicted steady state trough concentration of drug following a 250-mg dose in patients has been measured at 584 nmol/L (95% confidence interval, 197-1,732 nmol/L; ref. 38). However within switch FGFR2 were been Susceptibility of was and formic cell in al response that as on next sites respectively independently activated and more with chromosomes 14 disulfide protein.Protein the the .If verified in analyses of other patients, this observation suggests that patients with initial response to gefitinib may benefit from higher levels of drug in the CNS or other prophylactic measures (e.g., whole brain radiation) to suppress the development of resistant tumor cells in the CNS.  Acquired resistance is a significant problem for patients with lung cancer, whose tumors harbor EGFR kinase domain mutations that are sensitive to gefitinib and erlotinib. Despite experiencing often dramatic initial responses, these patients develop disease progression. Further understanding of the mechanisms underlying this process will facilitate ways to both overcome and suppress the development of acquired resistance.\""
      ]
     },
     "execution_count": 7,
     "metadata": {},
     "output_type": "execute_result"
    }
   ],
   "source": [
    "#Let's see if the same amount of text is in test DF.\n",
    "test_txt['Text'].iloc[0]"
   ]
  },
  {
   "cell_type": "code",
   "execution_count": 8,
   "metadata": {},
   "outputs": [
    {
     "data": {
      "text/html": [
       "<div>\n",
       "<style scoped>\n",
       "    .dataframe tbody tr th:only-of-type {\n",
       "        vertical-align: middle;\n",
       "    }\n",
       "\n",
       "    .dataframe tbody tr th {\n",
       "        vertical-align: top;\n",
       "    }\n",
       "\n",
       "    .dataframe thead th {\n",
       "        text-align: right;\n",
       "    }\n",
       "</style>\n",
       "<table border=\"1\" class=\"dataframe\">\n",
       "  <thead>\n",
       "    <tr style=\"text-align: right;\">\n",
       "      <th></th>\n",
       "      <th>ID</th>\n",
       "      <th>Gene</th>\n",
       "      <th>Variation</th>\n",
       "      <th>Class</th>\n",
       "    </tr>\n",
       "  </thead>\n",
       "  <tbody>\n",
       "    <tr>\n",
       "      <td>0</td>\n",
       "      <td>0</td>\n",
       "      <td>FAM58A</td>\n",
       "      <td>Truncating Mutations</td>\n",
       "      <td>1</td>\n",
       "    </tr>\n",
       "    <tr>\n",
       "      <td>1</td>\n",
       "      <td>1</td>\n",
       "      <td>CBL</td>\n",
       "      <td>W802*</td>\n",
       "      <td>2</td>\n",
       "    </tr>\n",
       "    <tr>\n",
       "      <td>2</td>\n",
       "      <td>2</td>\n",
       "      <td>CBL</td>\n",
       "      <td>Q249E</td>\n",
       "      <td>2</td>\n",
       "    </tr>\n",
       "    <tr>\n",
       "      <td>3</td>\n",
       "      <td>3</td>\n",
       "      <td>CBL</td>\n",
       "      <td>N454D</td>\n",
       "      <td>3</td>\n",
       "    </tr>\n",
       "    <tr>\n",
       "      <td>4</td>\n",
       "      <td>4</td>\n",
       "      <td>CBL</td>\n",
       "      <td>L399V</td>\n",
       "      <td>4</td>\n",
       "    </tr>\n",
       "  </tbody>\n",
       "</table>\n",
       "</div>"
      ],
      "text/plain": [
       "   ID    Gene             Variation  Class\n",
       "0   0  FAM58A  Truncating Mutations      1\n",
       "1   1     CBL                 W802*      2\n",
       "2   2     CBL                 Q249E      2\n",
       "3   3     CBL                 N454D      3\n",
       "4   4     CBL                 L399V      4"
      ]
     },
     "execution_count": 8,
     "metadata": {},
     "output_type": "execute_result"
    }
   ],
   "source": [
    "tr_var.head()"
   ]
  },
  {
   "cell_type": "code",
   "execution_count": 9,
   "metadata": {},
   "outputs": [
    {
     "data": {
      "text/html": [
       "<div>\n",
       "<style scoped>\n",
       "    .dataframe tbody tr th:only-of-type {\n",
       "        vertical-align: middle;\n",
       "    }\n",
       "\n",
       "    .dataframe tbody tr th {\n",
       "        vertical-align: top;\n",
       "    }\n",
       "\n",
       "    .dataframe thead th {\n",
       "        text-align: right;\n",
       "    }\n",
       "</style>\n",
       "<table border=\"1\" class=\"dataframe\">\n",
       "  <thead>\n",
       "    <tr style=\"text-align: right;\">\n",
       "      <th></th>\n",
       "      <th>ID</th>\n",
       "      <th>Gene</th>\n",
       "      <th>Variation</th>\n",
       "    </tr>\n",
       "  </thead>\n",
       "  <tbody>\n",
       "    <tr>\n",
       "      <td>0</td>\n",
       "      <td>0</td>\n",
       "      <td>ACSL4</td>\n",
       "      <td>R570S</td>\n",
       "    </tr>\n",
       "    <tr>\n",
       "      <td>1</td>\n",
       "      <td>1</td>\n",
       "      <td>NAGLU</td>\n",
       "      <td>P521L</td>\n",
       "    </tr>\n",
       "    <tr>\n",
       "      <td>2</td>\n",
       "      <td>2</td>\n",
       "      <td>PAH</td>\n",
       "      <td>L333F</td>\n",
       "    </tr>\n",
       "    <tr>\n",
       "      <td>3</td>\n",
       "      <td>3</td>\n",
       "      <td>ING1</td>\n",
       "      <td>A148D</td>\n",
       "    </tr>\n",
       "    <tr>\n",
       "      <td>4</td>\n",
       "      <td>4</td>\n",
       "      <td>TMEM216</td>\n",
       "      <td>G77A</td>\n",
       "    </tr>\n",
       "  </tbody>\n",
       "</table>\n",
       "</div>"
      ],
      "text/plain": [
       "   ID     Gene Variation\n",
       "0   0    ACSL4     R570S\n",
       "1   1    NAGLU     P521L\n",
       "2   2      PAH     L333F\n",
       "3   3     ING1     A148D\n",
       "4   4  TMEM216      G77A"
      ]
     },
     "execution_count": 9,
     "metadata": {},
     "output_type": "execute_result"
    }
   ],
   "source": [
    "test_var.head()"
   ]
  },
  {
   "cell_type": "markdown",
   "metadata": {},
   "source": [
    "test_var is missing class column which is what the purpose of this analysis is to figure out."
   ]
  },
  {
   "cell_type": "code",
   "execution_count": 10,
   "metadata": {},
   "outputs": [
    {
     "data": {
      "text/plain": [
       "((3321, 2), (5668, 2), (3321, 4), (5668, 3))"
      ]
     },
     "execution_count": 10,
     "metadata": {},
     "output_type": "execute_result"
    }
   ],
   "source": [
    "tr_txt.shape, test_txt.shape, tr_var.shape, test_var.shape"
   ]
  },
  {
   "cell_type": "markdown",
   "metadata": {},
   "source": [
    "Test dataset is far larger than training dataset."
   ]
  },
  {
   "cell_type": "markdown",
   "metadata": {},
   "source": [
    "Now let us look at overall gene distribution in the Training dataset."
   ]
  },
  {
   "cell_type": "code",
   "execution_count": 11,
   "metadata": {},
   "outputs": [
    {
     "data": {
      "image/png": "[encoded data removed]",
      "text/plain": [
       "<Figure size 432x288 with 1 Axes>"
      ]
     },
     "metadata": {
      "needs_background": "light"
     },
     "output_type": "display_data"
    }
   ],
   "source": [
    "plt.figure()\n",
    "ax = tr_var['Gene'].value_counts().plot(kind='area')\n",
    "\n",
    "ax.get_xaxis().set_ticks([])\n",
    "ax.set_title('Tr Gene Frequency Plot')\n",
    "ax.set_xlabel('Gene')\n",
    "ax.set_ylabel('Frequency')\n",
    "\n",
    "plt.tight_layout()\n",
    "plt.show()"
   ]
  },
  {
   "cell_type": "markdown",
   "metadata": {},
   "source": [
    "Compared to test_var:"
   ]
  },
  {
   "cell_type": "code",
   "execution_count": 12,
   "metadata": {},
   "outputs": [
    {
     "data": {
      "image/png": "[encoded data removed]",
      "text/plain": [
       "<Figure size 432x288 with 1 Axes>"
      ]
     },
     "metadata": {
      "needs_background": "light"
     },
     "output_type": "display_data"
    }
   ],
   "source": [
    "plt.figure()\n",
    "ax = test_var['Gene'].value_counts().plot(kind='area')\n",
    "\n",
    "ax.get_xaxis().set_ticks([])\n",
    "ax.set_title('Test Gene Frequency Plot')\n",
    "ax.set_xlabel('Gene')\n",
    "ax.set_ylabel('Frequency')\n",
    "\n",
    "plt.tight_layout()\n",
    "plt.show()"
   ]
  },
  {
   "cell_type": "markdown",
   "metadata": {},
   "source": [
    "There are not as many clearly dominant genes in the Test dataset as seen in Trending dataset."
   ]
  },
  {
   "cell_type": "markdown",
   "metadata": {},
   "source": [
    "Now, breaking down Trending dataset's gene distribution across classes."
   ]
  },
  {
   "cell_type": "code",
   "execution_count": 13,
   "metadata": {},
   "outputs": [
    {
     "data": {
      "image/png": "[encoded data removed]",
      "text/plain": [
       "<Figure size 792x792 with 9 Axes>"
      ]
     },
     "metadata": {
      "needs_background": "light"
     },
     "output_type": "display_data"
    }
   ],
   "source": [
    "fig, axes = plt.subplots(nrows=3, ncols=3, sharey=True, figsize=(11,11))\n",
    "\n",
    "# Normalize value counts for better comparison\n",
    "def normalize_group(x):\n",
    "    label, repetition = x.index, x\n",
    "    t = sum(repetition)\n",
    "    r = [n/t for n in repetition]\n",
    "    return label, r\n",
    "\n",
    "for idx, g in enumerate(tr_var.groupby('Class')):\n",
    "    label, val = normalize_group(g[1][\"Gene\"].value_counts())\n",
    "    ax = axes.flat[idx]\n",
    "    ax.bar(np.arange(5), val[:5],\n",
    "           tick_label=label[:5]) \n",
    "    ax.set_title(\"Class {}\".format(g[0]))\n",
    "    \n",
    "fig.text(0.5, 0.97, 'Trending Dataset (Top 5) Gene Frequency per Class', ha='center', fontsize=14, fontweight='bold')\n",
    "fig.text(0.5, 0, 'Gene', ha='center', fontweight='bold')\n",
    "fig.text(0, 0.5, 'Frequency', va='center', rotation='vertical', fontweight='bold')\n",
    "fig.tight_layout(rect=[0.03, 0.03, 0.95, 0.95])"
   ]
  },
  {
   "cell_type": "markdown",
   "metadata": {},
   "source": [
    "In the Training dataset, there are genes in some classes that are dominant dwarfing all other genes in the depicted class. This includes Class 5, 6 and 9. Also, another thing to note is BRCA1 and BRCA2 genes appear the most frequently from class to class. Though this is interesting, this feature will be dropped as well for Class prediction."
   ]
  },
  {
   "cell_type": "markdown",
   "metadata": {},
   "source": [
    "Gene column distribution from earlier in the notebook is highly skewed. \n",
    "Though this can be valuable if it is normalized and balanced by weights. However, in order to not over complicate things for now, this column will be disregarded as well for text analysis."
   ]
  },
  {
   "cell_type": "markdown",
   "metadata": {},
   "source": [
    "Let's take a look at the Trending dataset's Variation column's descriptive statistics."
   ]
  },
  {
   "cell_type": "code",
   "execution_count": 14,
   "metadata": {},
   "outputs": [
    {
     "data": {
      "text/plain": [
       "count                     3321\n",
       "unique                    2996\n",
       "top       Truncating Mutations\n",
       "freq                        93\n",
       "Name: Variation, dtype: object"
      ]
     },
     "execution_count": 14,
     "metadata": {},
     "output_type": "execute_result"
    }
   ],
   "source": [
    "tr_var['Variation'].describe()"
   ]
  },
  {
   "cell_type": "markdown",
   "metadata": {},
   "source": [
    "There are 2996 unique protein Variations. This means most of them are unique though not very useful for predictions. So this column will be dropped. "
   ]
  },
  {
   "cell_type": "markdown",
   "metadata": {},
   "source": [
    "Let's look at class distributions and see if there are huge class imbalances. This will affect the accuracy of our prediction classifier."
   ]
  },
  {
   "cell_type": "code",
   "execution_count": 15,
   "metadata": {},
   "outputs": [
    {
     "data": {
      "image/png": "[encoded data removed]",
      "text/plain": [
       "<Figure size 864x576 with 1 Axes>"
      ]
     },
     "metadata": {
      "needs_background": "light"
     },
     "output_type": "display_data"
    }
   ],
   "source": [
    "plt.figure(figsize=(12,8))\n",
    "sns.countplot(x=\"Class\", data=tr_var)\n",
    "plt.ylabel('Frequency', fontsize=12)\n",
    "plt.xlabel('Class Count', fontsize=12)\n",
    "plt.xticks(rotation='vertical')\n",
    "plt.title(\"Tr Frequency of Classes\", fontsize=15)\n",
    "plt.show()"
   ]
  },
  {
   "cell_type": "markdown",
   "metadata": {},
   "source": [
    "There is class imbalance. Classes 4 and 7 are the most represented. Whereas classes 3, 8 and 9 are the most under-represented. This can be solved with bias weights, carefully sampling batches or removing dominant data to equalize the field.\n",
    "\n",
    "No comparison to test dataset is possible since there are no classes given since the objective of the analysis is to predict them using the test dataset."
   ]
  },
  {
   "cell_type": "markdown",
   "metadata": {},
   "source": [
    "Now checking for NaN's that would affect subsequent analysis."
   ]
  },
  {
   "cell_type": "code",
   "execution_count": 16,
   "metadata": {},
   "outputs": [
    {
     "data": {
      "text/plain": [
       "(ID      0\n",
       " Text    5\n",
       " dtype: int64, ID           0\n",
       " Gene         0\n",
       " Variation    0\n",
       " Class        0\n",
       " dtype: int64, ID      0\n",
       " Text    1\n",
       " dtype: int64, ID           0\n",
       " Gene         0\n",
       " Variation    0\n",
       " dtype: int64)"
      ]
     },
     "execution_count": 16,
     "metadata": {},
     "output_type": "execute_result"
    }
   ],
   "source": [
    "tr_txt.isnull().sum(), tr_var.isnull().sum(), test_txt.isnull().sum(), test_var.isnull().sum()"
   ]
  },
  {
   "cell_type": "markdown",
   "metadata": {},
   "source": [
    "There are 5 in tr_text DF and 1 in test_txt DF. Let us locate them to get some context."
   ]
  },
  {
   "cell_type": "code",
   "execution_count": 17,
   "metadata": {},
   "outputs": [
    {
     "data": {
      "text/html": [
       "<div>\n",
       "<style scoped>\n",
       "    .dataframe tbody tr th:only-of-type {\n",
       "        vertical-align: middle;\n",
       "    }\n",
       "\n",
       "    .dataframe tbody tr th {\n",
       "        vertical-align: top;\n",
       "    }\n",
       "\n",
       "    .dataframe thead th {\n",
       "        text-align: right;\n",
       "    }\n",
       "</style>\n",
       "<table border=\"1\" class=\"dataframe\">\n",
       "  <thead>\n",
       "    <tr style=\"text-align: right;\">\n",
       "      <th></th>\n",
       "      <th>ID</th>\n",
       "      <th>Text</th>\n",
       "    </tr>\n",
       "  </thead>\n",
       "  <tbody>\n",
       "    <tr>\n",
       "      <td>1109</td>\n",
       "      <td>1109</td>\n",
       "      <td>NaN</td>\n",
       "    </tr>\n",
       "    <tr>\n",
       "      <td>1277</td>\n",
       "      <td>1277</td>\n",
       "      <td>NaN</td>\n",
       "    </tr>\n",
       "    <tr>\n",
       "      <td>1407</td>\n",
       "      <td>1407</td>\n",
       "      <td>NaN</td>\n",
       "    </tr>\n",
       "    <tr>\n",
       "      <td>1639</td>\n",
       "      <td>1639</td>\n",
       "      <td>NaN</td>\n",
       "    </tr>\n",
       "    <tr>\n",
       "      <td>2755</td>\n",
       "      <td>2755</td>\n",
       "      <td>NaN</td>\n",
       "    </tr>\n",
       "  </tbody>\n",
       "</table>\n",
       "</div>"
      ],
      "text/plain": [
       "        ID Text\n",
       "1109  1109  NaN\n",
       "1277  1277  NaN\n",
       "1407  1407  NaN\n",
       "1639  1639  NaN\n",
       "2755  2755  NaN"
      ]
     },
     "execution_count": 17,
     "metadata": {},
     "output_type": "execute_result"
    }
   ],
   "source": [
    "nans = lambda df: df[df.isnull().any(axis=1)]\n",
    "nans(tr_txt)"
   ]
  },
  {
   "cell_type": "code",
   "execution_count": 18,
   "metadata": {},
   "outputs": [
    {
     "data": {
      "text/html": [
       "<div>\n",
       "<style scoped>\n",
       "    .dataframe tbody tr th:only-of-type {\n",
       "        vertical-align: middle;\n",
       "    }\n",
       "\n",
       "    .dataframe tbody tr th {\n",
       "        vertical-align: top;\n",
       "    }\n",
       "\n",
       "    .dataframe thead th {\n",
       "        text-align: right;\n",
       "    }\n",
       "</style>\n",
       "<table border=\"1\" class=\"dataframe\">\n",
       "  <thead>\n",
       "    <tr style=\"text-align: right;\">\n",
       "      <th></th>\n",
       "      <th>ID</th>\n",
       "      <th>Text</th>\n",
       "    </tr>\n",
       "  </thead>\n",
       "  <tbody>\n",
       "    <tr>\n",
       "      <td>1623</td>\n",
       "      <td>1623</td>\n",
       "      <td>NaN</td>\n",
       "    </tr>\n",
       "  </tbody>\n",
       "</table>\n",
       "</div>"
      ],
      "text/plain": [
       "        ID Text\n",
       "1623  1623  NaN"
      ]
     },
     "execution_count": 18,
     "metadata": {},
     "output_type": "execute_result"
    }
   ],
   "source": [
    "nans(test_txt)"
   ]
  },
  {
   "cell_type": "markdown",
   "metadata": {},
   "source": [
    "Need to keep in mind ID's 1109, 1277, 1407, 1639 and 2755 in tr_txt and ID 1623 in test_txt when using any math function for analysis. Will need to completely eliminate these from datasets to prevent run barriers."
   ]
  },
  {
   "cell_type": "code",
   "execution_count": 56,
   "metadata": {
    "scrolled": true
   },
   "outputs": [
    {
     "data": {
      "text/plain": [
       "(None, None)"
      ]
     },
     "execution_count": 56,
     "metadata": {},
     "output_type": "execute_result"
    }
   ],
   "source": [
    "tr_txt.fillna(0, inplace=True), test_txt.fillna(0, inplace=True)"
   ]
  },
  {
   "cell_type": "code",
   "execution_count": 57,
   "metadata": {},
   "outputs": [
    {
     "data": {
      "text/plain": [
       "(ID      0\n",
       " Text    0\n",
       " dtype: int64, ID      0\n",
       " Text    0\n",
       " dtype: int64)"
      ]
     },
     "execution_count": 57,
     "metadata": {},
     "output_type": "execute_result"
    }
   ],
   "source": [
    "tr_txt.isnull().sum(), test_txt.isnull().sum()"
   ]
  },
  {
   "cell_type": "markdown",
   "metadata": {},
   "source": [
    "Before analyzing more of the data, e.g. heading into text analysis, let's drop the Gene and Variation columns."
   ]
  },
  {
   "cell_type": "code",
   "execution_count": 19,
   "metadata": {},
   "outputs": [
    {
     "data": {
      "text/html": [
       "<div>\n",
       "<style scoped>\n",
       "    .dataframe tbody tr th:only-of-type {\n",
       "        vertical-align: middle;\n",
       "    }\n",
       "\n",
       "    .dataframe tbody tr th {\n",
       "        vertical-align: top;\n",
       "    }\n",
       "\n",
       "    .dataframe thead th {\n",
       "        text-align: right;\n",
       "    }\n",
       "</style>\n",
       "<table border=\"1\" class=\"dataframe\">\n",
       "  <thead>\n",
       "    <tr style=\"text-align: right;\">\n",
       "      <th></th>\n",
       "      <th>ID</th>\n",
       "      <th>Gene</th>\n",
       "      <th>Variation</th>\n",
       "      <th>Class</th>\n",
       "    </tr>\n",
       "  </thead>\n",
       "  <tbody>\n",
       "    <tr>\n",
       "      <td>0</td>\n",
       "      <td>0</td>\n",
       "      <td>FAM58A</td>\n",
       "      <td>Truncating Mutations</td>\n",
       "      <td>1</td>\n",
       "    </tr>\n",
       "    <tr>\n",
       "      <td>1</td>\n",
       "      <td>1</td>\n",
       "      <td>CBL</td>\n",
       "      <td>W802*</td>\n",
       "      <td>2</td>\n",
       "    </tr>\n",
       "    <tr>\n",
       "      <td>2</td>\n",
       "      <td>2</td>\n",
       "      <td>CBL</td>\n",
       "      <td>Q249E</td>\n",
       "      <td>2</td>\n",
       "    </tr>\n",
       "    <tr>\n",
       "      <td>3</td>\n",
       "      <td>3</td>\n",
       "      <td>CBL</td>\n",
       "      <td>N454D</td>\n",
       "      <td>3</td>\n",
       "    </tr>\n",
       "    <tr>\n",
       "      <td>4</td>\n",
       "      <td>4</td>\n",
       "      <td>CBL</td>\n",
       "      <td>L399V</td>\n",
       "      <td>4</td>\n",
       "    </tr>\n",
       "  </tbody>\n",
       "</table>\n",
       "</div>"
      ],
      "text/plain": [
       "   ID    Gene             Variation  Class\n",
       "0   0  FAM58A  Truncating Mutations      1\n",
       "1   1     CBL                 W802*      2\n",
       "2   2     CBL                 Q249E      2\n",
       "3   3     CBL                 N454D      3\n",
       "4   4     CBL                 L399V      4"
      ]
     },
     "execution_count": 19,
     "metadata": {},
     "output_type": "execute_result"
    }
   ],
   "source": [
    "tr_var.head()"
   ]
  },
  {
   "cell_type": "code",
   "execution_count": 20,
   "metadata": {},
   "outputs": [],
   "source": [
    "tr_var.drop(['Gene', 'Variation'], axis=1, inplace=True)\n",
    "\n",
    "# Additionaly we will drop the null labeled texts too (in Trending and Test dataset)\n",
    "tr_txt = tr_txt[tr_txt['Text'] != 'null']\n",
    "test_txt = test_txt[test_txt['Text'] != 'null']"
   ]
  },
  {
   "cell_type": "markdown",
   "metadata": {},
   "source": [
    "Now, let us handle the text data and see what sort of insights we can draw from it in order to help in our prediction algorithm. In order to first start doing this, need to first combine the training text DF to the training variant DF. Let's start!"
   ]
  },
  {
   "cell_type": "code",
   "execution_count": 58,
   "metadata": {},
   "outputs": [
    {
     "data": {
      "text/html": [
       "<div>\n",
       "<style scoped>\n",
       "    .dataframe tbody tr th:only-of-type {\n",
       "        vertical-align: middle;\n",
       "    }\n",
       "\n",
       "    .dataframe tbody tr th {\n",
       "        vertical-align: top;\n",
       "    }\n",
       "\n",
       "    .dataframe thead th {\n",
       "        text-align: right;\n",
       "    }\n",
       "</style>\n",
       "<table border=\"1\" class=\"dataframe\">\n",
       "  <thead>\n",
       "    <tr style=\"text-align: right;\">\n",
       "      <th></th>\n",
       "      <th>ID</th>\n",
       "      <th>Class</th>\n",
       "      <th>ID</th>\n",
       "      <th>Text</th>\n",
       "    </tr>\n",
       "  </thead>\n",
       "  <tbody>\n",
       "    <tr>\n",
       "      <td>0</td>\n",
       "      <td>0</td>\n",
       "      <td>1</td>\n",
       "      <td>0</td>\n",
       "      <td>Cyclin-dependent kinases (CDKs) regulate a var...</td>\n",
       "    </tr>\n",
       "    <tr>\n",
       "      <td>1</td>\n",
       "      <td>1</td>\n",
       "      <td>2</td>\n",
       "      <td>1</td>\n",
       "      <td>Abstract Background  Non-small cell lung canc...</td>\n",
       "    </tr>\n",
       "    <tr>\n",
       "      <td>2</td>\n",
       "      <td>2</td>\n",
       "      <td>2</td>\n",
       "      <td>2</td>\n",
       "      <td>Abstract Background  Non-small cell lung canc...</td>\n",
       "    </tr>\n",
       "    <tr>\n",
       "      <td>3</td>\n",
       "      <td>3</td>\n",
       "      <td>3</td>\n",
       "      <td>3</td>\n",
       "      <td>Recent evidence has demonstrated that acquired...</td>\n",
       "    </tr>\n",
       "    <tr>\n",
       "      <td>4</td>\n",
       "      <td>4</td>\n",
       "      <td>4</td>\n",
       "      <td>4</td>\n",
       "      <td>Oncogenic mutations in the monomeric Casitas B...</td>\n",
       "    </tr>\n",
       "  </tbody>\n",
       "</table>\n",
       "</div>"
      ],
      "text/plain": [
       "   ID  Class  ID                                               Text\n",
       "0   0      1   0  Cyclin-dependent kinases (CDKs) regulate a var...\n",
       "1   1      2   1   Abstract Background  Non-small cell lung canc...\n",
       "2   2      2   2   Abstract Background  Non-small cell lung canc...\n",
       "3   3      3   3  Recent evidence has demonstrated that acquired...\n",
       "4   4      4   4  Oncogenic mutations in the monomeric Casitas B..."
      ]
     },
     "execution_count": 58,
     "metadata": {},
     "output_type": "execute_result"
    }
   ],
   "source": [
    "tr_data = pd.concat([tr_var, tr_txt], axis=1)\n",
    "tr_data.head()"
   ]
  },
  {
   "cell_type": "markdown",
   "metadata": {},
   "source": [
    "Let's take a look at the text again with some keywords and post-text processing on a sample of data only for now using gensim's TextRank algorithm."
   ]
  },
  {
   "cell_type": "code",
   "execution_count": 22,
   "metadata": {},
   "outputs": [
    {
     "name": "stdout",
     "output_type": "stream",
     "text": [
      "ID [0]\n",
      "Keywords: [[('cdk', 0.3934447412907815), ('cell', 0.22309997351577512), ('ets', 0.21293157336651014), ('proteins', 0.21103648629359192), ('gene', 0.17081930053896233)]]\n",
      "Summary: [CDK10 knockdown derepresses ETS2, which increases the expression of the c-Raf protein kinase, activates the MAPK pathway, and induces resistance of MCF7 cells to tamoxifen (6).Here, we deorphanize CDK10 by identifying cyclin M, the product of FAM58A, as a binding partner.\n",
      "Finally, we detect an increased ETS2 expression level in cells derived from a STAR patient, and we demonstrate that it is attributable to the decreased cyclin M expression level observed in these cells.Previous SectionNext SectionResultsA yeast two-hybrid (Y2H) screen unveiled an interaction signal between CDK10 and a mouse protein whose C-terminal half presents a strong sequence homology with the human FAM58A gene product [whose proposed name is cyclin M (11)].]\n"
     ]
    }
   ],
   "source": [
    "t_id = 0\n",
    "text = tr_data.loc[t_id, 'Text']\n",
    "\n",
    "word_scores = keywords(text, words=5, scores=True, split=True, lemmatize=True)\n",
    "#word_scores = ', '.join(['{}-{:.2f}'.format(k, s[0]) for k, s in word_scores])\n",
    "summary = summarize(text, word_count=100)\n",
    "\n",
    "print('ID [{}]\\nKeywords: [{}]\\nSummary: [{}]'.format(t_id, word_scores, summary))"
   ]
  },
  {
   "cell_type": "markdown",
   "metadata": {},
   "source": [
    "After text is tokenized (strings split into words), cleaned of stop words as well as lemmatized, we can see key words are: cell, ets, proteins and gene. "
   ]
  },
  {
   "cell_type": "markdown",
   "metadata": {},
   "source": [
    "Now, will tokenize, remove stop words as well as lemmatize the text for word frequency analysis. "
   ]
  },
  {
   "cell_type": "code",
   "execution_count": 25,
   "metadata": {},
   "outputs": [],
   "source": [
    "custom_words = [\"fig\", \"figure\", \"et\", \"al\", \"al.\", \"also\",\n",
    "                \"data\", \"analyze\", \"study\", \"table\", \"using\",\n",
    "                \"method\", \"result\", \"conclusion\", \"author\", \n",
    "                \"find\", \"found\", \"show\", '\"', \"’\", \"“\", \"”\"]\n",
    "\n",
    "stop_words = set(stopwords.words('english') + list(punctuation) + custom_words)\n",
    "wordnet_lemmatizer = WordNetLemmatizer()\n",
    "\n",
    "class_corpus = tr_data.groupby('Class').apply(lambda x: x['Text'].str.cat())\n",
    "class_corpus = class_corpus.apply(lambda x: Counter(\n",
    "    [wordnet_lemmatizer.lemmatize(w) \n",
    "     for w in word_tokenize(x) \n",
    "     if w.lower() not in stop_words and not w.isdigit()]\n",
    "))"
   ]
  },
  {
   "cell_type": "code",
   "execution_count": 27,
   "metadata": {},
   "outputs": [
    {
     "data": {
      "image/png": "[encoded data removed]",
      "text/plain": [
       "<Figure size 432x288 with 1 Axes>"
      ]
     },
     "metadata": {
      "needs_background": "light"
     },
     "output_type": "display_data"
    }
   ],
   "source": [
    "whole_text_freq = class_corpus.sum()\n",
    "\n",
    "fig, ax = plt.subplots()\n",
    "\n",
    "label, repetition = zip(*whole_text_freq.most_common(25))\n",
    "\n",
    "ax.barh(range(len(label)), repetition, align='center')\n",
    "ax.set_yticks(np.arange(len(label)))\n",
    "ax.set_yticklabels(label)\n",
    "ax.invert_yaxis()\n",
    "\n",
    "ax.set_title('Word Distribution Over Whole Text')\n",
    "ax.set_xlabel('# of repetitions')\n",
    "ax.set_ylabel('Word')\n",
    "\n",
    "plt.tight_layout()\n",
    "plt.show()"
   ]
  },
  {
   "cell_type": "markdown",
   "metadata": {},
   "source": [
    "Mutation, cell, mutant, protein, tumor, patient, cancer and gene are the top words from the whole text corpus. "
   ]
  },
  {
   "cell_type": "markdown",
   "metadata": {},
   "source": [
    "We will now work on establishing features from text to build ML classifer that will use text to predict class mutation."
   ]
  },
  {
   "cell_type": "markdown",
   "metadata": {},
   "source": [
    "Let us first define a helper function "
   ]
  },
  {
   "cell_type": "code",
   "execution_count": 45,
   "metadata": {},
   "outputs": [],
   "source": [
    "def evaluate_features(X, y, clf=None):\n",
    "    \"\"\"General helper function for evaluating effectiveness of passed features in ML model\n",
    "    \n",
    "    Prints out Log loss, accuracy, and confusion matrix with 3-fold stratified cross-validation\n",
    "    \n",
    "    Args:\n",
    "        X (array-like): Features array. Shape (n_samples, n_features)\n",
    "        \n",
    "        y (array-like): Labels array. Shape (n_samples,)\n",
    "        \n",
    "        clf: Classifier to use. If None, default Log reg is use.\n",
    "    \"\"\"\n",
    "    if clf is None:\n",
    "        clf = LogisticRegression()\n",
    "    \n",
    "    probas = cross_val_predict(clf, X, y, cv=StratifiedKFold(random_state=8), \n",
    "                              n_jobs=-1, method='predict_proba', verbose=2)\n",
    "    pred_indices = np.argmax(probas, axis=1)\n",
    "    classes = np.unique(y)\n",
    "    preds = classes[pred_indices]\n",
    "    print('Log loss: {}'.format(log_loss(y, probas)))\n",
    "    print('Accuracy: {}'.format(accuracy_score(y, preds)))\n",
    "    skplt.plot_confusion_matrix(y, preds)"
   ]
  },
  {
   "cell_type": "markdown",
   "metadata": {},
   "source": [
    "quickly testing evaluate_features:"
   ]
  },
  {
   "cell_type": "code",
   "execution_count": 46,
   "metadata": {},
   "outputs": [
    {
     "name": "stderr",
     "output_type": "stream",
     "text": [
      "C:\\Users\\mindy\\Anaconda3\\lib\\site-packages\\sklearn\\model_selection\\_split.py:629: FutureWarning: The default value of n_split will change from 3 to 5 in version 0.22. Specify it explicitly to silence this warning.\n",
      "  warnings.warn(NSPLIT_WARNING, FutureWarning)\n",
      "[Parallel(n_jobs=-1)]: Using backend LokyBackend with 4 concurrent workers.\n",
      "[Parallel(n_jobs=-1)]: Done   3 out of   3 | elapsed:    8.2s finished\n",
      "C:\\Users\\mindy\\Anaconda3\\lib\\site-packages\\sklearn\\utils\\deprecation.py:85: DeprecationWarning: Function plot_confusion_matrix is deprecated; This will be removed in v0.4.0. Please use scikitplot.metrics.plot_confusion_matrix instead.\n",
      "  warnings.warn(msg, category=DeprecationWarning)\n"
     ]
    },
    {
     "name": "stdout",
     "output_type": "stream",
     "text": [
      "Log loss: 0.34456225154048314\n",
      "Accuracy: 0.9466666666666667\n"
     ]
    },
    {
     "data": {
      "image/png": "[encoded data removed]",
      "text/plain": [
       "<Figure size 792x504 with 2 Axes>"
      ]
     },
     "metadata": {
      "needs_background": "light"
     },
     "output_type": "display_data"
    }
   ],
   "source": [
    "from sklearn.datasets import load_iris\n",
    "evaluate_features(*load_iris(True))"
   ]
  },
  {
   "cell_type": "markdown",
   "metadata": {},
   "source": [
    "Pretty good output since accuracy is high while log loss is on the low end."
   ]
  },
  {
   "cell_type": "markdown",
   "metadata": {},
   "source": [
    "Now, let's start with a baseline: Bag of Words"
   ]
  },
  {
   "cell_type": "code",
   "execution_count": 47,
   "metadata": {},
   "outputs": [],
   "source": [
    "count_vectorizer = CountVectorizer(\n",
    "    analyzer=\"word\", tokenizer=nltk.word_tokenize,\n",
    "    preprocessor=None, stop_words='english', max_features=None)"
   ]
  },
  {
   "cell_type": "code",
   "execution_count": 60,
   "metadata": {},
   "outputs": [],
   "source": [
    "#bag_of_words = count_vectorizer.fit_transform(tr_data['Text'])"
   ]
  },
  {
   "cell_type": "code",
   "execution_count": null,
   "metadata": {},
   "outputs": [],
   "source": [
    "#len(count_vectorizer.get_feature_names())"
   ]
  },
  {
   "cell_type": "markdown",
   "metadata": {},
   "source": [
    "There are unique words in the corpus."
   ]
  }
 ],
 "metadata": {
  "kernelspec": {
   "display_name": "Python 3",
   "language": "python",
   "name": "python3"
  },
  "language_info": {
   "codemirror_mode": {
    "name": "ipython",
    "version": 3
   },
   "file_extension": ".py",
   "mimetype": "text/x-python",
   "name": "python",
   "nbconvert_exporter": "python",
   "pygments_lexer": "ipython3",
   "version": "3.7.4"
  }
 },
 "nbformat": 4,
 "nbformat_minor": 2
}
